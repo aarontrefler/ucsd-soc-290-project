{
 "cells": [
  {
   "cell_type": "code",
   "execution_count": 5,
   "metadata": {
    "collapsed": false
   },
   "outputs": [],
   "source": [
    "import pandas as pd\n",
    "import numpy as np\n",
    "import statsmodels.api as sm\n",
    "import statsmodels.formula.api as smf"
   ]
  },
  {
   "cell_type": "code",
   "execution_count": 2,
   "metadata": {
    "collapsed": false
   },
   "outputs": [],
   "source": [
    "df_features = pd.read_csv(\"../data/clean/features_clean.csv\").drop(\"Unnamed: 0\", axis=1)\n",
    "df_scores = pd.read_csv(\"../data/clean/scores.csv\").drop(\"Unnamed: 0\", axis=1)"
   ]
  },
  {
   "cell_type": "code",
   "execution_count": 3,
   "metadata": {
    "collapsed": true
   },
   "outputs": [],
   "source": [
    "df_joint = df_features.merge(right=df_scores, how='inner', left_on='Trump_tweet_id', right_on=\"id_str\")\n",
    "df_model = df_joint.drop(['Trump_tweet_id', 'user_id', 'id_str', 'text'], axis=1)"
   ]
  },
  {
   "cell_type": "code",
   "execution_count": 6,
   "metadata": {
    "collapsed": false
   },
   "outputs": [
    {
     "data": {
      "text/plain": [
       "Index([u'gender_male', u'gender_female', u'is_mobile_apple',\n",
       "       u'is_mobile_android', u'age', u'years_user_exist',\n",
       "       u'user_favourites_count', u'user_friends_count', u'user_statuses_count',\n",
       "       u'gen_prob_BabyBoom', u'gen_prob_GenX', u'gen_prob_GenZ',\n",
       "       u'gen_Greatest_prob', u'gen_prob_Mill', u'gen_prob_PostGenZ',\n",
       "       u'gen_prob_Silent', u'gen_prob_Other', u'score'],\n",
       "      dtype='object')"
      ]
     },
     "execution_count": 6,
     "metadata": {},
     "output_type": "execute_result"
    }
   ],
   "source": [
    "df_model.columns"
   ]
  },
  {
   "cell_type": "code",
   "execution_count": 27,
   "metadata": {
    "collapsed": false
   },
   "outputs": [
    {
     "data": {
      "text/plain": [
       "'score ~ gender_male + gender_female + is_mobile_apple + is_mobile_android + age + years_user_exist + user_favourites_count + user_friends_count + user_statuses_count + gen_prob_BabyBoom + gen_prob_GenX + gen_prob_GenZ + gen_Greatest_prob + gen_prob_Mill + gen_prob_PostGenZ + gen_prob_Silent + gen_prob_Other'"
      ]
     },
     "execution_count": 27,
     "metadata": {},
     "output_type": "execute_result"
    }
   ],
   "source": [
    "\"score ~ \" + \" + \".join(df_model.drop('score', axis=1).columns)"
   ]
  },
  {
   "cell_type": "code",
   "execution_count": 17,
   "metadata": {
    "collapsed": false
   },
   "outputs": [
    {
     "name": "stdout",
     "output_type": "stream",
     "text": [
      "                            OLS Regression Results                            \n",
      "==============================================================================\n",
      "Dep. Variable:                  score   R-squared:                       0.001\n",
      "Model:                            OLS   Adj. R-squared:                  0.000\n",
      "Method:                 Least Squares   F-statistic:                     3.130\n",
      "Date:                Fri, 24 Nov 2017   Prob (F-statistic):             0.0139\n",
      "Time:                        11:20:31   Log-Likelihood:                -6808.3\n",
      "No. Observations:               18825   AIC:                         1.363e+04\n",
      "Df Residuals:                   18820   BIC:                         1.367e+04\n",
      "Df Model:                           4                                         \n",
      "Covariance Type:            nonrobust                                         \n",
      "=========================================================================================\n",
      "                            coef    std err          t      P>|t|      [95.0% Conf. Int.]\n",
      "-----------------------------------------------------------------------------------------\n",
      "Intercept                 0.1662      0.006     26.209      0.000         0.154     0.179\n",
      "gender_male[T.True]       0.0006      0.006      0.092      0.927        -0.011     0.012\n",
      "gender_female[T.True]     0.0037      0.006      0.583      0.560        -0.009     0.016\n",
      "is_mobile_apple          -0.0195      0.007     -2.804      0.005        -0.033    -0.006\n",
      "is_mobile_android        -0.0249      0.007     -3.446      0.001        -0.039    -0.011\n",
      "==============================================================================\n",
      "Omnibus:                      138.438   Durbin-Watson:                   0.019\n",
      "Prob(Omnibus):                  0.000   Jarque-Bera (JB):              214.947\n",
      "Skew:                          -0.018   Prob(JB):                     2.11e-47\n",
      "Kurtosis:                       3.522   Cond. No.                         5.20\n",
      "==============================================================================\n",
      "\n",
      "Warnings:\n",
      "[1] Standard Errors assume that the covariance matrix of the errors is correctly specified.\n"
     ]
    }
   ],
   "source": [
    "results = smf.ols('score ~ gender_male + gender_female + is_mobile_apple + is_mobile_android', data=df_model).fit()\n",
    "print(results.summary())"
   ]
  },
  {
   "cell_type": "code",
   "execution_count": null,
   "metadata": {
    "collapsed": true
   },
   "outputs": [],
   "source": []
  }
 ],
 "metadata": {
  "kernelspec": {
   "display_name": "Python 2",
   "language": "python",
   "name": "python2"
  },
  "language_info": {
   "codemirror_mode": {
    "name": "ipython",
    "version": 2
   },
   "file_extension": ".py",
   "mimetype": "text/x-python",
   "name": "python",
   "nbconvert_exporter": "python",
   "pygments_lexer": "ipython2",
   "version": "2.7.11"
  },
  "toc": {
   "colors": {
    "hover_highlight": "#DAA520",
    "navigate_num": "#000000",
    "navigate_text": "#333333",
    "running_highlight": "#FF0000",
    "selected_highlight": "#FFD700",
    "sidebar_border": "#EEEEEE",
    "wrapper_background": "#FFFFFF"
   },
   "moveMenuLeft": true,
   "nav_menu": {
    "height": "13px",
    "width": "251px"
   },
   "navigate_menu": true,
   "number_sections": true,
   "sideBar": true,
   "threshold": 4,
   "toc_cell": false,
   "toc_section_display": "block",
   "toc_window_display": false,
   "widenNotebook": false
  }
 },
 "nbformat": 4,
 "nbformat_minor": 2
}
