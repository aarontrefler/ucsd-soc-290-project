{
 "cells": [
  {
   "cell_type": "markdown",
   "metadata": {},
   "source": [
    "# Setup"
   ]
  },
  {
   "cell_type": "code",
   "execution_count": 140,
   "metadata": {
    "collapsed": true
   },
   "outputs": [],
   "source": [
    "import json\n",
    "import tweepy\n",
    "from tweepy import OAuthHandler\n",
    "from pymongo import MongoClient\n",
    "import os"
   ]
  },
  {
   "cell_type": "code",
   "execution_count": 141,
   "metadata": {
    "collapsed": false
   },
   "outputs": [],
   "source": [
    "# Twitter API setup\n",
    "consumer_key = 'W1vEEpGJawjrqeW70yBUkfrWt'\n",
    "consumer_secret = 'PSNivPYzJCjvEeQ5WW0zAhAIbAoEdzQBjTUG39up4yhnW9HABi'\n",
    "access_token = '289683843-a9GiDa84Ak7FqD8c8Cu1qYzA5oEVqQ1FSKjkSudP'\n",
    "access_secret = 'O3KhEusOxqTJGI6zvh8eqlDbyGyUT4tKThymbr57YFHWx'\n",
    " \n",
    "auth = OAuthHandler(consumer_key, consumer_secret)\n",
    "auth.set_access_token(access_token, access_secret)\n",
    " \n",
    "api = tweepy.API(auth)"
   ]
  },
  {
   "cell_type": "code",
   "execution_count": 143,
   "metadata": {
    "collapsed": false
   },
   "outputs": [],
   "source": [
    "# MongoDB setup\n",
    "os.system('mongo twitterdb --eval \"db.dropDatabase();\"')\n",
    "client = MongoClient()\n",
    "db = client.twitterdb"
   ]
  },
  {
   "cell_type": "markdown",
   "metadata": {},
   "source": [
    "# Tweet Functions"
   ]
  },
  {
   "cell_type": "code",
   "execution_count": 135,
   "metadata": {
    "collapsed": false
   },
   "outputs": [],
   "source": [
    "def print_tweet(tweet):\n",
    "    \"\"\"\n",
    "    Print text for a tweet\n",
    "    \"\"\"\n",
    "    print(tweet['text'])\n",
    "\n",
    "\n",
    "def store_tweet(tweet, collection):\n",
    "    \"\"\"\n",
    "    Store tweet in MongoDB\n",
    "    \"\"\"\n",
    "    db[collection].insert_one(tweet)\n",
    "\n",
    "\n",
    "def limit_handled(cursor):\n",
    "    \"\"\"\n",
    "    Code taken from tweepy to deal with rate limit issues\n",
    "    \"\"\"\n",
    "    while True:\n",
    "        try:\n",
    "            yield cursor.next()\n",
    "        except tweepy.RateLimitError:\n",
    "            print(\"Rate limit exceeded. Sleeping ...\")\n",
    "            time.sleep(15 * 60)\n"
   ]
  },
  {
   "cell_type": "markdown",
   "metadata": {
    "collapsed": true
   },
   "source": [
    "# Donald Trump Twitter"
   ]
  },
  {
   "cell_type": "code",
   "execution_count": 120,
   "metadata": {
    "collapsed": false
   },
   "outputs": [],
   "source": [
    "user = api.get_user('realDonaldTrump')"
   ]
  },
  {
   "cell_type": "code",
   "execution_count": 144,
   "metadata": {
    "collapsed": false
   },
   "outputs": [],
   "source": [
    "# Get trump tweets\n",
    "n = 100  # number of tweets to get\n",
    "\n",
    "for tweet in limit_handled(tweepy.Cursor(\n",
    "    api.user_timeline, id='realDonaldTrump', count=n).items(n)):\n",
    "    \n",
    "    store_tweet(tweet=tweet._json, collection='trump_tweets')"
   ]
  },
  {
   "cell_type": "code",
   "execution_count": 149,
   "metadata": {
    "collapsed": false,
    "scrolled": false
   },
   "outputs": [
    {
     "ename": "RateLimitError",
     "evalue": "[{'message': 'Rate limit exceeded', 'code': 88}]",
     "output_type": "error",
     "traceback": [
      "\u001b[0;31m---------------------------------------------------------------------------\u001b[0m",
      "\u001b[0;31mRateLimitError\u001b[0m                            Traceback (most recent call last)",
      "\u001b[0;32m<ipython-input-149-8cbf19e0ea08>\u001b[0m in \u001b[0;36m<module>\u001b[0;34m()\u001b[0m\n\u001b[1;32m      3\u001b[0m \u001b[0;34m\u001b[0m\u001b[0m\n\u001b[1;32m      4\u001b[0m \u001b[0;32mfor\u001b[0m \u001b[0mtweet\u001b[0m \u001b[0;32min\u001b[0m \u001b[0mdb\u001b[0m\u001b[0;34m.\u001b[0m\u001b[0mtrump_tweets\u001b[0m\u001b[0;34m.\u001b[0m\u001b[0mfind\u001b[0m\u001b[0;34m(\u001b[0m\u001b[0;34m)\u001b[0m\u001b[0;34m:\u001b[0m\u001b[0;34m\u001b[0m\u001b[0m\n\u001b[0;32m----> 5\u001b[0;31m     \u001b[0mretweets\u001b[0m \u001b[0;34m=\u001b[0m \u001b[0mapi\u001b[0m\u001b[0;34m.\u001b[0m\u001b[0mretweets\u001b[0m\u001b[0;34m(\u001b[0m\u001b[0mtweet\u001b[0m\u001b[0;34m[\u001b[0m\u001b[0;34m'id_str'\u001b[0m\u001b[0;34m]\u001b[0m\u001b[0;34m,\u001b[0m \u001b[0mcount\u001b[0m\u001b[0;34m=\u001b[0m\u001b[0mn\u001b[0m\u001b[0;34m)\u001b[0m\u001b[0;34m\u001b[0m\u001b[0m\n\u001b[0m\u001b[1;32m      6\u001b[0m \u001b[0;34m\u001b[0m\u001b[0m\n\u001b[1;32m      7\u001b[0m     \u001b[0;32mfor\u001b[0m \u001b[0mretweet\u001b[0m \u001b[0;32min\u001b[0m \u001b[0mretweets\u001b[0m\u001b[0;34m:\u001b[0m\u001b[0;34m\u001b[0m\u001b[0m\n",
      "\u001b[0;32m/Users/aarontrefler_temp2/anaconda/envs/py35/lib/python3.5/site-packages/tweepy/binder.py\u001b[0m in \u001b[0;36m_call\u001b[0;34m(*args, **kwargs)\u001b[0m\n\u001b[1;32m    243\u001b[0m             \u001b[0;32mreturn\u001b[0m \u001b[0mmethod\u001b[0m\u001b[0;34m\u001b[0m\u001b[0m\n\u001b[1;32m    244\u001b[0m         \u001b[0;32melse\u001b[0m\u001b[0;34m:\u001b[0m\u001b[0;34m\u001b[0m\u001b[0m\n\u001b[0;32m--> 245\u001b[0;31m             \u001b[0;32mreturn\u001b[0m \u001b[0mmethod\u001b[0m\u001b[0;34m.\u001b[0m\u001b[0mexecute\u001b[0m\u001b[0;34m(\u001b[0m\u001b[0;34m)\u001b[0m\u001b[0;34m\u001b[0m\u001b[0m\n\u001b[0m\u001b[1;32m    246\u001b[0m \u001b[0;34m\u001b[0m\u001b[0m\n\u001b[1;32m    247\u001b[0m     \u001b[0;31m# Set pagination mode\u001b[0m\u001b[0;34m\u001b[0m\u001b[0;34m\u001b[0m\u001b[0m\n",
      "\u001b[0;32m/Users/aarontrefler_temp2/anaconda/envs/py35/lib/python3.5/site-packages/tweepy/binder.py\u001b[0m in \u001b[0;36mexecute\u001b[0;34m(self)\u001b[0m\n\u001b[1;32m    225\u001b[0m \u001b[0;34m\u001b[0m\u001b[0m\n\u001b[1;32m    226\u001b[0m                 \u001b[0;32mif\u001b[0m \u001b[0mis_rate_limit_error_message\u001b[0m\u001b[0;34m(\u001b[0m\u001b[0merror_msg\u001b[0m\u001b[0;34m)\u001b[0m\u001b[0;34m:\u001b[0m\u001b[0;34m\u001b[0m\u001b[0m\n\u001b[0;32m--> 227\u001b[0;31m                     \u001b[0;32mraise\u001b[0m \u001b[0mRateLimitError\u001b[0m\u001b[0;34m(\u001b[0m\u001b[0merror_msg\u001b[0m\u001b[0;34m,\u001b[0m \u001b[0mresp\u001b[0m\u001b[0;34m)\u001b[0m\u001b[0;34m\u001b[0m\u001b[0m\n\u001b[0m\u001b[1;32m    228\u001b[0m                 \u001b[0;32melse\u001b[0m\u001b[0;34m:\u001b[0m\u001b[0;34m\u001b[0m\u001b[0m\n\u001b[1;32m    229\u001b[0m                     \u001b[0;32mraise\u001b[0m \u001b[0mTweepError\u001b[0m\u001b[0;34m(\u001b[0m\u001b[0merror_msg\u001b[0m\u001b[0;34m,\u001b[0m \u001b[0mresp\u001b[0m\u001b[0;34m,\u001b[0m \u001b[0mapi_code\u001b[0m\u001b[0;34m=\u001b[0m\u001b[0mapi_error_code\u001b[0m\u001b[0;34m)\u001b[0m\u001b[0;34m\u001b[0m\u001b[0m\n",
      "\u001b[0;31mRateLimitError\u001b[0m: [{'message': 'Rate limit exceeded', 'code': 88}]"
     ]
    }
   ],
   "source": [
    "# Get trump retweets\n",
    "n = 100  # number of retweets to get\n",
    "\n",
    "for tweet in db.trump_tweets.find():\n",
    "    retweets = api.retweets(tweet['id_str'], count=n)\n",
    "    \n",
    "    for retweet in retweets:\n",
    "        retweet = retweet._json\n",
    "        retweet['trump_tweet_mongo_id'] = tweet['_id']\n",
    "        \n",
    "        store_tweet(tweet=retweet, \n",
    "                    collection=\"trump_retweets_\" + str(tweet['_id']))"
   ]
  },
  {
   "cell_type": "code",
   "execution_count": 150,
   "metadata": {
    "collapsed": false,
    "scrolled": true
   },
   "outputs": [
    {
     "name": "stdout",
     "output_type": "stream",
     "text": [
      "2017-10-31T17:23:52.186-0700\twriting twitterdb.trump_retweets_59f90fc7a3b98c535ef358f3 to \n",
      "2017-10-31T17:23:52.187-0700\twriting twitterdb.trump_retweets_59f90fc7a3b98c535ef358fa to \n",
      "2017-10-31T17:23:52.187-0700\twriting twitterdb.trump_retweets_59f90fc7a3b98c535ef358fc to \n",
      "2017-10-31T17:23:52.187-0700\twriting twitterdb.trump_retweets_59f90fc7a3b98c535ef35902 to \n",
      "2017-10-31T17:23:52.208-0700\tdone dumping twitterdb.trump_retweets_59f90fc7a3b98c535ef358fa (189 documents)\n",
      "2017-10-31T17:23:52.208-0700\twriting twitterdb.trump_retweets_59f90fc7a3b98c535ef358fe to \n",
      "2017-10-31T17:23:52.210-0700\tdone dumping twitterdb.trump_retweets_59f90fc7a3b98c535ef35902 (186 documents)\n",
      "2017-10-31T17:23:52.210-0700\twriting twitterdb.trump_retweets_59f90fc7a3b98c535ef358f2 to \n",
      "2017-10-31T17:23:52.210-0700\tdone dumping twitterdb.trump_retweets_59f90fc7a3b98c535ef358fc (188 documents)\n",
      "2017-10-31T17:23:52.210-0700\twriting twitterdb.trump_retweets_59f90fc7a3b98c535ef358fb to \n",
      "2017-10-31T17:23:52.222-0700\tdone dumping twitterdb.trump_retweets_59f90fc7a3b98c535ef358f3 (190 documents)\n",
      "2017-10-31T17:23:52.222-0700\twriting twitterdb.trump_retweets_59f90fc7a3b98c535ef358f0 to \n",
      "2017-10-31T17:23:52.226-0700\tdone dumping twitterdb.trump_retweets_59f90fc7a3b98c535ef358fe (186 documents)\n",
      "2017-10-31T17:23:52.226-0700\twriting twitterdb.trump_retweets_59f90fc7a3b98c535ef358f4 to \n",
      "2017-10-31T17:23:52.228-0700\tdone dumping twitterdb.trump_retweets_59f90fc7a3b98c535ef358fb (186 documents)\n",
      "2017-10-31T17:23:52.228-0700\twriting twitterdb.trump_retweets_59f90fc7a3b98c535ef35931 to \n",
      "2017-10-31T17:23:52.228-0700\tdone dumping twitterdb.trump_retweets_59f90fc7a3b98c535ef358f2 (186 documents)\n",
      "2017-10-31T17:23:52.228-0700\twriting twitterdb.trump_retweets_59f90fc7a3b98c535ef358f1 to \n",
      "2017-10-31T17:23:52.239-0700\tdone dumping twitterdb.trump_retweets_59f90fc7a3b98c535ef358f0 (185 documents)\n",
      "2017-10-31T17:23:52.239-0700\twriting twitterdb.trump_retweets_59f90fc7a3b98c535ef358f9 to \n",
      "2017-10-31T17:23:52.245-0700\tdone dumping twitterdb.trump_retweets_59f90fc7a3b98c535ef358f1 (184 documents)\n",
      "2017-10-31T17:23:52.245-0700\twriting twitterdb.trump_retweets_59f90fc7a3b98c535ef35914 to \n",
      "2017-10-31T17:23:52.246-0700\tdone dumping twitterdb.trump_retweets_59f90fc7a3b98c535ef35931 (184 documents)\n",
      "2017-10-31T17:23:52.246-0700\twriting twitterdb.trump_retweets_59f90fc7a3b98c535ef35933 to \n",
      "2017-10-31T17:23:52.254-0700\tdone dumping twitterdb.trump_retweets_59f90fc7a3b98c535ef358f4 (185 documents)\n",
      "2017-10-31T17:23:52.254-0700\twriting twitterdb.trump_retweets_59f90fc7a3b98c535ef35920 to \n",
      "2017-10-31T17:23:52.257-0700\tdone dumping twitterdb.trump_retweets_59f90fc7a3b98c535ef358f9 (184 documents)\n",
      "2017-10-31T17:23:52.257-0700\twriting twitterdb.trump_retweets_59f90fc7a3b98c535ef358f7 to \n",
      "2017-10-31T17:23:52.271-0700\tdone dumping twitterdb.trump_retweets_59f90fc7a3b98c535ef35933 (184 documents)\n",
      "2017-10-31T17:23:52.271-0700\twriting twitterdb.trump_retweets_59f90fc7a3b98c535ef358fd to \n",
      "2017-10-31T17:23:52.271-0700\tdone dumping twitterdb.trump_retweets_59f90fc7a3b98c535ef35920 (182 documents)\n",
      "2017-10-31T17:23:52.271-0700\twriting twitterdb.trump_retweets_59f90fc7a3b98c535ef3593a to \n",
      "2017-10-31T17:23:52.276-0700\tdone dumping twitterdb.trump_retweets_59f90fc7a3b98c535ef35914 (184 documents)\n",
      "2017-10-31T17:23:52.276-0700\twriting twitterdb.trump_retweets_59f90fc7a3b98c535ef3590d to \n",
      "2017-10-31T17:23:52.287-0700\tdone dumping twitterdb.trump_retweets_59f90fc7a3b98c535ef358f7 (182 documents)\n",
      "2017-10-31T17:23:52.287-0700\twriting twitterdb.trump_retweets_59f90fc7a3b98c535ef35900 to \n",
      "2017-10-31T17:23:52.287-0700\tdone dumping twitterdb.trump_retweets_59f90fc7a3b98c535ef3593a (182 documents)\n",
      "2017-10-31T17:23:52.287-0700\twriting twitterdb.trump_retweets_59f90fc7a3b98c535ef35911 to \n",
      "2017-10-31T17:23:52.287-0700\tdone dumping twitterdb.trump_retweets_59f90fc7a3b98c535ef358fd (182 documents)\n",
      "2017-10-31T17:23:52.287-0700\twriting twitterdb.trump_retweets_59f90fc7a3b98c535ef35904 to \n",
      "2017-10-31T17:23:52.293-0700\tdone dumping twitterdb.trump_retweets_59f90fc7a3b98c535ef3590d (182 documents)\n",
      "2017-10-31T17:23:52.293-0700\twriting twitterdb.trump_retweets_59f90fc7a3b98c535ef3592f to \n",
      "2017-10-31T17:23:52.302-0700\tdone dumping twitterdb.trump_retweets_59f90fc7a3b98c535ef35900 (182 documents)\n",
      "2017-10-31T17:23:52.302-0700\twriting twitterdb.trump_retweets_59f90fc7a3b98c535ef3592d to \n",
      "2017-10-31T17:23:52.304-0700\tdone dumping twitterdb.trump_retweets_59f90fc7a3b98c535ef35911 (181 documents)\n",
      "2017-10-31T17:23:52.304-0700\twriting twitterdb.trump_retweets_59f90fc7a3b98c535ef35903 to \n",
      "2017-10-31T17:23:52.304-0700\tdone dumping twitterdb.trump_retweets_59f90fc7a3b98c535ef35904 (181 documents)\n",
      "2017-10-31T17:23:52.304-0700\twriting twitterdb.trump_retweets_59f90fc7a3b98c535ef35930 to \n",
      "2017-10-31T17:23:52.310-0700\tdone dumping twitterdb.trump_retweets_59f90fc7a3b98c535ef3592f (180 documents)\n",
      "2017-10-31T17:23:52.310-0700\twriting twitterdb.trump_retweets_59f90fc7a3b98c535ef3592e to \n",
      "2017-10-31T17:23:52.321-0700\tdone dumping twitterdb.trump_retweets_59f90fc7a3b98c535ef35903 (180 documents)\n",
      "2017-10-31T17:23:52.321-0700\twriting twitterdb.trump_retweets_59f90fc7a3b98c535ef358f5 to \n",
      "2017-10-31T17:23:52.321-0700\tdone dumping twitterdb.trump_retweets_59f90fc7a3b98c535ef35930 (180 documents)\n",
      "2017-10-31T17:23:52.321-0700\twriting twitterdb.trump_retweets_59f90fc7a3b98c535ef35907 to \n",
      "2017-10-31T17:23:52.324-0700\tdone dumping twitterdb.trump_retweets_59f90fc7a3b98c535ef3592d (180 documents)\n",
      "2017-10-31T17:23:52.324-0700\twriting twitterdb.trump_retweets_59f90fc7a3b98c535ef358f8 to \n",
      "2017-10-31T17:23:52.327-0700\tdone dumping twitterdb.trump_retweets_59f90fc7a3b98c535ef3592e (180 documents)\n",
      "2017-10-31T17:23:52.328-0700\twriting twitterdb.trump_retweets_59f90fc7a3b98c535ef35912 to \n",
      "2017-10-31T17:23:52.338-0700\tdone dumping twitterdb.trump_retweets_59f90fc7a3b98c535ef35907 (179 documents)\n",
      "2017-10-31T17:23:52.338-0700\twriting twitterdb.trump_retweets_59f90fc7a3b98c535ef35905 to \n",
      "2017-10-31T17:23:52.347-0700\tdone dumping twitterdb.trump_retweets_59f90fc7a3b98c535ef35912 (179 documents)\n",
      "2017-10-31T17:23:52.347-0700\twriting twitterdb.trump_retweets_59f90fc7a3b98c535ef3592b to \n",
      "2017-10-31T17:23:52.348-0700\tdone dumping twitterdb.trump_retweets_59f90fc7a3b98c535ef358f8 (179 documents)\n",
      "2017-10-31T17:23:52.348-0700\twriting twitterdb.trump_retweets_59f90fc7a3b98c535ef35909 to \n",
      "2017-10-31T17:23:52.348-0700\tdone dumping twitterdb.trump_retweets_59f90fc7a3b98c535ef358f5 (180 documents)\n",
      "2017-10-31T17:23:52.348-0700\twriting twitterdb.trump_retweets_59f90fc7a3b98c535ef35908 to \n",
      "2017-10-31T17:23:52.353-0700\tdone dumping twitterdb.trump_retweets_59f90fc7a3b98c535ef35905 (179 documents)\n",
      "2017-10-31T17:23:52.353-0700\twriting twitterdb.trump_retweets_59f90fc7a3b98c535ef358ff to \n",
      "2017-10-31T17:23:52.365-0700\tdone dumping twitterdb.trump_retweets_59f90fc7a3b98c535ef35909 (178 documents)\n",
      "2017-10-31T17:23:52.365-0700\twriting twitterdb.trump_retweets_59f90fc7a3b98c535ef35906 to \n",
      "2017-10-31T17:23:52.365-0700\tdone dumping twitterdb.trump_retweets_59f90fc7a3b98c535ef3592b (178 documents)\n",
      "2017-10-31T17:23:52.365-0700\twriting twitterdb.trump_retweets_59f90fc7a3b98c535ef35935 to \n",
      "2017-10-31T17:23:52.365-0700\tdone dumping twitterdb.trump_retweets_59f90fc7a3b98c535ef35908 (178 documents)\n",
      "2017-10-31T17:23:52.365-0700\twriting twitterdb.trump_retweets_59f90fc7a3b98c535ef35928 to \n",
      "2017-10-31T17:23:52.369-0700\tdone dumping twitterdb.trump_retweets_59f90fc7a3b98c535ef358ff (178 documents)\n",
      "2017-10-31T17:23:52.369-0700\twriting twitterdb.trump_retweets_59f90fc7a3b98c535ef35923 to \n",
      "2017-10-31T17:23:52.380-0700\tdone dumping twitterdb.trump_retweets_59f90fc7a3b98c535ef35935 (176 documents)\n",
      "2017-10-31T17:23:52.380-0700\twriting twitterdb.trump_retweets_59f90fc7a3b98c535ef35932 to \n",
      "2017-10-31T17:23:52.381-0700\tdone dumping twitterdb.trump_retweets_59f90fc7a3b98c535ef35906 (177 documents)\n",
      "2017-10-31T17:23:52.381-0700\twriting twitterdb.trump_retweets_59f90fc7a3b98c535ef3590c to \n",
      "2017-10-31T17:23:52.384-0700\tdone dumping twitterdb.trump_retweets_59f90fc7a3b98c535ef35923 (176 documents)\n",
      "2017-10-31T17:23:52.384-0700\twriting twitterdb.trump_retweets_59f90fc7a3b98c535ef35939 to \n",
      "2017-10-31T17:23:52.389-0700\tdone dumping twitterdb.trump_retweets_59f90fc7a3b98c535ef35928 (176 documents)\n",
      "2017-10-31T17:23:52.389-0700\twriting twitterdb.trump_retweets_59f90fc7a3b98c535ef3591a to \n",
      "2017-10-31T17:23:52.397-0700\tdone dumping twitterdb.trump_retweets_59f90fc7a3b98c535ef3590c (176 documents)\n",
      "2017-10-31T17:23:52.397-0700\twriting twitterdb.trump_retweets_59f90fc7a3b98c535ef35937 to \n",
      "2017-10-31T17:23:52.398-0700\tdone dumping twitterdb.trump_retweets_59f90fc7a3b98c535ef35932 (176 documents)\n",
      "2017-10-31T17:23:52.398-0700\twriting twitterdb.trump_retweets_59f90fc7a3b98c535ef35916 to \n",
      "2017-10-31T17:23:52.401-0700\tdone dumping twitterdb.trump_retweets_59f90fc7a3b98c535ef35939 (176 documents)\n",
      "2017-10-31T17:23:52.401-0700\twriting twitterdb.trump_retweets_59f90fc7a3b98c535ef3590e to \n",
      "2017-10-31T17:23:52.405-0700\tdone dumping twitterdb.trump_retweets_59f90fc7a3b98c535ef3591a (175 documents)\n",
      "2017-10-31T17:23:52.405-0700\twriting twitterdb.trump_retweets_59f90fc7a3b98c535ef35938 to \n",
      "2017-10-31T17:23:52.413-0700\tdone dumping twitterdb.trump_retweets_59f90fc7a3b98c535ef35937 (174 documents)\n",
      "2017-10-31T17:23:52.413-0700\twriting twitterdb.trump_retweets_59f90fc7a3b98c535ef35925 to \n",
      "2017-10-31T17:23:52.415-0700\tdone dumping twitterdb.trump_retweets_59f90fc7a3b98c535ef35916 (174 documents)\n",
      "2017-10-31T17:23:52.415-0700\twriting twitterdb.trump_retweets_59f90fc7a3b98c535ef35926 to \n",
      "2017-10-31T17:23:52.417-0700\tdone dumping twitterdb.trump_retweets_59f90fc7a3b98c535ef3590e (174 documents)\n",
      "2017-10-31T17:23:52.417-0700\twriting twitterdb.trump_retweets_59f90fc7a3b98c535ef3591c to \n",
      "2017-10-31T17:23:52.420-0700\tdone dumping twitterdb.trump_retweets_59f90fc7a3b98c535ef35938 (172 documents)\n",
      "2017-10-31T17:23:52.420-0700\twriting twitterdb.trump_retweets_59f90fc7a3b98c535ef35934 to \n",
      "2017-10-31T17:23:52.430-0700\tdone dumping twitterdb.trump_retweets_59f90fc7a3b98c535ef35925 (172 documents)\n",
      "2017-10-31T17:23:52.430-0700\twriting twitterdb.trump_retweets_59f90fc7a3b98c535ef35922 to \n",
      "2017-10-31T17:23:52.430-0700\tdone dumping twitterdb.trump_retweets_59f90fc7a3b98c535ef35926 (172 documents)\n",
      "2017-10-31T17:23:52.430-0700\twriting twitterdb.trump_retweets_59f90fc7a3b98c535ef35913 to \n",
      "2017-10-31T17:23:52.432-0700\tdone dumping twitterdb.trump_retweets_59f90fc7a3b98c535ef3591c (172 documents)\n",
      "2017-10-31T17:23:52.432-0700\twriting twitterdb.trump_retweets_59f90fc7a3b98c535ef3590a to \n",
      "2017-10-31T17:23:52.445-0700\tdone dumping twitterdb.trump_retweets_59f90fc7a3b98c535ef35922 (170 documents)\n",
      "2017-10-31T17:23:52.445-0700\twriting twitterdb.trump_retweets_59f90fc7a3b98c535ef3590f to \n",
      "2017-10-31T17:23:52.446-0700\tdone dumping twitterdb.trump_retweets_59f90fc7a3b98c535ef3590a (170 documents)\n",
      "2017-10-31T17:23:52.446-0700\twriting twitterdb.trump_retweets_59f90fc7a3b98c535ef3591e to \n",
      "2017-10-31T17:23:52.447-0700\tdone dumping twitterdb.trump_retweets_59f90fc7a3b98c535ef35934 (170 documents)\n",
      "2017-10-31T17:23:52.447-0700\twriting twitterdb.trump_retweets_59f90fc7a3b98c535ef35910 to \n",
      "2017-10-31T17:23:52.450-0700\tdone dumping twitterdb.trump_retweets_59f90fc7a3b98c535ef35913 (170 documents)\n",
      "2017-10-31T17:23:52.450-0700\twriting twitterdb.trump_retweets_59f90fc7a3b98c535ef35924 to \n",
      "2017-10-31T17:23:52.460-0700\tdone dumping twitterdb.trump_retweets_59f90fc7a3b98c535ef3590f (170 documents)\n",
      "2017-10-31T17:23:52.460-0700\twriting twitterdb.trump_retweets_59f90fc7a3b98c535ef35919 to \n",
      "2017-10-31T17:23:52.462-0700\tdone dumping twitterdb.trump_retweets_59f90fc7a3b98c535ef35910 (170 documents)\n",
      "2017-10-31T17:23:52.462-0700\twriting twitterdb.trump_retweets_59f90fc7a3b98c535ef35921 to \n",
      "2017-10-31T17:23:52.463-0700\tdone dumping twitterdb.trump_retweets_59f90fc7a3b98c535ef3591e (170 documents)\n",
      "2017-10-31T17:23:52.463-0700\twriting twitterdb.trump_retweets_59f90fc7a3b98c535ef3591f to \n",
      "2017-10-31T17:23:52.465-0700\tdone dumping twitterdb.trump_retweets_59f90fc7a3b98c535ef35924 (168 documents)\n",
      "2017-10-31T17:23:52.465-0700\twriting twitterdb.trump_retweets_59f90fc7a3b98c535ef35936 to \n",
      "2017-10-31T17:23:52.478-0700\tdone dumping twitterdb.trump_retweets_59f90fc7a3b98c535ef3591f (168 documents)\n",
      "2017-10-31T17:23:52.478-0700\twriting twitterdb.trump_retweets_59f90fc7a3b98c535ef35917 to \n",
      "2017-10-31T17:23:52.479-0700\tdone dumping twitterdb.trump_retweets_59f90fc7a3b98c535ef35936 (168 documents)\n",
      "2017-10-31T17:23:52.479-0700\twriting twitterdb.trump_retweets_59f90fc7a3b98c535ef3592a to \n",
      "2017-10-31T17:23:52.479-0700\tdone dumping twitterdb.trump_retweets_59f90fc7a3b98c535ef35921 (168 documents)\n",
      "2017-10-31T17:23:52.479-0700\twriting twitterdb.trump_retweets_59f90fc7a3b98c535ef35918 to \n",
      "2017-10-31T17:23:52.480-0700\tdone dumping twitterdb.trump_retweets_59f90fc7a3b98c535ef35919 (168 documents)\n",
      "2017-10-31T17:23:52.480-0700\twriting twitterdb.trump_retweets_59f90fc7a3b98c535ef3591d to \n",
      "2017-10-31T17:23:52.493-0700\tdone dumping twitterdb.trump_retweets_59f90fc7a3b98c535ef35917 (168 documents)\n",
      "2017-10-31T17:23:52.493-0700\twriting twitterdb.trump_retweets_59f90fc7a3b98c535ef35915 to \n",
      "2017-10-31T17:23:52.495-0700\tdone dumping twitterdb.trump_retweets_59f90fc7a3b98c535ef35918 (166 documents)\n",
      "2017-10-31T17:23:52.495-0700\twriting twitterdb.trump_retweets_59f90fc7a3b98c535ef35901 to \n",
      "2017-10-31T17:23:52.495-0700\tdone dumping twitterdb.trump_retweets_59f90fc7a3b98c535ef3591d (166 documents)\n",
      "2017-10-31T17:23:52.495-0700\twriting twitterdb.trump_retweets_59f90fc7a3b98c535ef3590b to \n",
      "2017-10-31T17:23:52.504-0700\tdone dumping twitterdb.trump_retweets_59f90fc7a3b98c535ef3592a (168 documents)\n",
      "2017-10-31T17:23:52.504-0700\twriting twitterdb.trump_retweets_59f90fc7a3b98c535ef3591b to \n",
      "2017-10-31T17:23:52.509-0700\tdone dumping twitterdb.trump_retweets_59f90fc7a3b98c535ef35901 (166 documents)\n",
      "2017-10-31T17:23:52.509-0700\twriting twitterdb.trump_tweets to \n",
      "2017-10-31T17:23:52.511-0700\tdone dumping twitterdb.trump_retweets_59f90fc7a3b98c535ef35915 (166 documents)\n",
      "2017-10-31T17:23:52.511-0700\tdone dumping twitterdb.trump_retweets_59f90fc7a3b98c535ef3590b (166 documents)\n",
      "2017-10-31T17:23:52.516-0700\tdone dumping twitterdb.trump_tweets (100 documents)\n",
      "2017-10-31T17:23:52.517-0700\tdone dumping twitterdb.trump_retweets_59f90fc7a3b98c535ef3591b (162 documents)\n"
     ]
    }
   ],
   "source": [
    "# Export MongoDB\n",
    "!mongodump --db twitterdb --gzip --out \"../data\""
   ]
  },
  {
   "cell_type": "code",
   "execution_count": null,
   "metadata": {
    "collapsed": true
   },
   "outputs": [],
   "source": []
  }
 ],
 "metadata": {
  "kernelspec": {
   "display_name": "Python 3",
   "language": "python",
   "name": "python3"
  },
  "language_info": {
   "codemirror_mode": {
    "name": "ipython",
    "version": 3
   },
   "file_extension": ".py",
   "mimetype": "text/x-python",
   "name": "python",
   "nbconvert_exporter": "python",
   "pygments_lexer": "ipython3",
   "version": "3.5.2"
  },
  "toc": {
   "colors": {
    "hover_highlight": "#DAA520",
    "navigate_num": "#000000",
    "navigate_text": "#333333",
    "running_highlight": "#FF0000",
    "selected_highlight": "#FFD700",
    "sidebar_border": "#EEEEEE",
    "wrapper_background": "#FFFFFF"
   },
   "moveMenuLeft": true,
   "nav_menu": {
    "height": "13px",
    "width": "251px"
   },
   "navigate_menu": true,
   "number_sections": true,
   "sideBar": true,
   "threshold": 4,
   "toc_cell": false,
   "toc_section_display": "block",
   "toc_window_display": false,
   "widenNotebook": false
  }
 },
 "nbformat": 4,
 "nbformat_minor": 2
}
