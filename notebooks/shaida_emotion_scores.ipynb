{
 "cells": [
  {
   "cell_type": "code",
   "execution_count": 1,
   "metadata": {
    "collapsed": true
   },
   "outputs": [],
   "source": [
    "from collections import OrderedDict, defaultdict, Counter\n",
    "import pandas as pd\n",
    "import csv\n",
    "from nltk.tokenize import TweetTokenizer\n",
    "from sklearn.feature_extraction.text import CountVectorizer"
   ]
  },
  {
   "cell_type": "code",
   "execution_count": 2,
   "metadata": {
    "collapsed": true
   },
   "outputs": [],
   "source": [
    "data = pd.read_csv(\"../data/clean/scores.csv\").drop(\"Unnamed: 0\", axis=1)\n",
    "lexicon = '../data/lexicons/NRC-emotion-lexicon-wordlevel-alphabetized-v0.92.txt'"
   ]
  },
  {
   "cell_type": "code",
   "execution_count": 3,
   "metadata": {
    "collapsed": true
   },
   "outputs": [],
   "source": [
    "def create_emotionList(lexicon):\n",
    "    wordList = defaultdict(list)\n",
    "    emotionList = defaultdict(list)\n",
    "    with open(lexicon, 'r') as f:\n",
    "        reader = csv.reader(f, delimiter='\\t')\n",
    "        headerRows = [i for i in range(0, 46)]\n",
    "        for row in headerRows:\n",
    "            next(reader)\n",
    "        for word, emotion, present in reader:\n",
    "            if int(present) == 1:\n",
    "                #print(word)\n",
    "                wordList[word].append(emotion)\n",
    "                emotionList[emotion].append(word)\n",
    "    return wordList"
   ]
  },
  {
   "cell_type": "code",
   "execution_count": 4,
   "metadata": {
    "collapsed": true
   },
   "outputs": [],
   "source": [
    "wordList = create_emotionList(lexicon)\n",
    "tt = TweetTokenizer()"
   ]
  },
  {
   "cell_type": "code",
   "execution_count": 5,
   "metadata": {
    "collapsed": true
   },
   "outputs": [],
   "source": [
    "def generate_emotion_count(string, tokenizer):\n",
    "    emoCount = Counter()\n",
    "    for token in tt.tokenize(string):\n",
    "        token = token.lower()\n",
    "        emoCount += Counter(wordList[token])\n",
    "    #dividing by length of string   \n",
    "    for k in emoCount.keys():\n",
    "        emoCount[k] = emoCount[k]*1.0/len(tt.tokenize(string))\n",
    "        \n",
    "    return emoCount"
   ]
  },
  {
   "cell_type": "code",
   "execution_count": 6,
   "metadata": {
    "collapsed": true
   },
   "outputs": [],
   "source": [
    "def add_emotion_score(data):\n",
    "    emotion_scores = [generate_emotion_count(tweet, tt) for tweet in data['text']]\n",
    "    emotion_df = pd.DataFrame(emotion_scores, index=data.index)\n",
    "    emotion_df = emotion_df.fillna(0)\n",
    "    return pd.concat([data, emotion_df], axis = 1)"
   ]
  },
  {
   "cell_type": "code",
   "execution_count": 7,
   "metadata": {
    "collapsed": false
   },
   "outputs": [
    {
     "data": {
      "text/html": [
       "<div>\n",
       "<table border=\"1\" class=\"dataframe\">\n",
       "  <thead>\n",
       "    <tr style=\"text-align: right;\">\n",
       "      <th></th>\n",
       "      <th>id_str</th>\n",
       "      <th>score</th>\n",
       "      <th>text</th>\n",
       "      <th>anger</th>\n",
       "      <th>anticipation</th>\n",
       "      <th>disgust</th>\n",
       "      <th>fear</th>\n",
       "      <th>joy</th>\n",
       "      <th>negative</th>\n",
       "      <th>positive</th>\n",
       "      <th>sadness</th>\n",
       "      <th>surprise</th>\n",
       "      <th>trust</th>\n",
       "    </tr>\n",
       "  </thead>\n",
       "  <tbody>\n",
       "    <tr>\n",
       "      <th>0</th>\n",
       "      <td>927851452185407490</td>\n",
       "      <td>-1.0</td>\n",
       "      <td>....and has been horrible on Virginia economy....</td>\n",
       "      <td>0.153846</td>\n",
       "      <td>0.076923</td>\n",
       "      <td>0.076923</td>\n",
       "      <td>0.076923</td>\n",
       "      <td>0.076923</td>\n",
       "      <td>0.153846</td>\n",
       "      <td>0.076923</td>\n",
       "      <td>0.076923</td>\n",
       "      <td>0.076923</td>\n",
       "      <td>0.153846</td>\n",
       "    </tr>\n",
       "    <tr>\n",
       "      <th>1</th>\n",
       "      <td>925806343855984647</td>\n",
       "      <td>-0.9</td>\n",
       "      <td>We mourn the horrifying terrorist attack in NY...</td>\n",
       "      <td>0.083333</td>\n",
       "      <td>0.000000</td>\n",
       "      <td>0.083333</td>\n",
       "      <td>0.125000</td>\n",
       "      <td>0.000000</td>\n",
       "      <td>0.208333</td>\n",
       "      <td>0.000000</td>\n",
       "      <td>0.166667</td>\n",
       "      <td>0.041667</td>\n",
       "      <td>0.000000</td>\n",
       "    </tr>\n",
       "    <tr>\n",
       "      <th>2</th>\n",
       "      <td>924639422066384896</td>\n",
       "      <td>-0.9</td>\n",
       "      <td>...\"collusion,\" which doesn't exist. The Dems ...</td>\n",
       "      <td>0.187500</td>\n",
       "      <td>0.000000</td>\n",
       "      <td>0.156250</td>\n",
       "      <td>0.156250</td>\n",
       "      <td>0.000000</td>\n",
       "      <td>0.156250</td>\n",
       "      <td>0.000000</td>\n",
       "      <td>0.125000</td>\n",
       "      <td>0.000000</td>\n",
       "      <td>0.000000</td>\n",
       "    </tr>\n",
       "    <tr>\n",
       "      <th>3</th>\n",
       "      <td>922798321739161600</td>\n",
       "      <td>-0.7</td>\n",
       "      <td>Bob Corker, who helped President O give us the...</td>\n",
       "      <td>0.071429</td>\n",
       "      <td>0.035714</td>\n",
       "      <td>0.035714</td>\n",
       "      <td>0.035714</td>\n",
       "      <td>0.035714</td>\n",
       "      <td>0.107143</td>\n",
       "      <td>0.071429</td>\n",
       "      <td>0.071429</td>\n",
       "      <td>0.035714</td>\n",
       "      <td>0.071429</td>\n",
       "    </tr>\n",
       "    <tr>\n",
       "      <th>4</th>\n",
       "      <td>927644826006425601</td>\n",
       "      <td>-0.5</td>\n",
       "      <td>The state of Virginia economy, under Democrat ...</td>\n",
       "      <td>0.074074</td>\n",
       "      <td>0.074074</td>\n",
       "      <td>0.037037</td>\n",
       "      <td>0.074074</td>\n",
       "      <td>0.037037</td>\n",
       "      <td>0.074074</td>\n",
       "      <td>0.037037</td>\n",
       "      <td>0.074074</td>\n",
       "      <td>0.037037</td>\n",
       "      <td>0.111111</td>\n",
       "    </tr>\n",
       "  </tbody>\n",
       "</table>\n",
       "</div>"
      ],
      "text/plain": [
       "               id_str  score  \\\n",
       "0  927851452185407490   -1.0   \n",
       "1  925806343855984647   -0.9   \n",
       "2  924639422066384896   -0.9   \n",
       "3  922798321739161600   -0.7   \n",
       "4  927644826006425601   -0.5   \n",
       "\n",
       "                                                text     anger  anticipation  \\\n",
       "0  ....and has been horrible on Virginia economy....  0.153846      0.076923   \n",
       "1  We mourn the horrifying terrorist attack in NY...  0.083333      0.000000   \n",
       "2  ...\"collusion,\" which doesn't exist. The Dems ...  0.187500      0.000000   \n",
       "3  Bob Corker, who helped President O give us the...  0.071429      0.035714   \n",
       "4  The state of Virginia economy, under Democrat ...  0.074074      0.074074   \n",
       "\n",
       "    disgust      fear       joy  negative  positive   sadness  surprise  \\\n",
       "0  0.076923  0.076923  0.076923  0.153846  0.076923  0.076923  0.076923   \n",
       "1  0.083333  0.125000  0.000000  0.208333  0.000000  0.166667  0.041667   \n",
       "2  0.156250  0.156250  0.000000  0.156250  0.000000  0.125000  0.000000   \n",
       "3  0.035714  0.035714  0.035714  0.107143  0.071429  0.071429  0.035714   \n",
       "4  0.037037  0.074074  0.037037  0.074074  0.037037  0.074074  0.037037   \n",
       "\n",
       "      trust  \n",
       "0  0.153846  \n",
       "1  0.000000  \n",
       "2  0.000000  \n",
       "3  0.071429  \n",
       "4  0.111111  "
      ]
     },
     "execution_count": 7,
     "metadata": {},
     "output_type": "execute_result"
    }
   ],
   "source": [
    "d = add_emotion_score(data)\n",
    "d.head()"
   ]
  },
  {
   "cell_type": "code",
   "execution_count": 8,
   "metadata": {
    "collapsed": true
   },
   "outputs": [],
   "source": [
    "d.to_csv(path_or_buf =\"../data/clean/emoscores.csv\")"
   ]
  },
  {
   "cell_type": "code",
   "execution_count": null,
   "metadata": {
    "collapsed": true
   },
   "outputs": [],
   "source": []
  }
 ],
 "metadata": {
  "anaconda-cloud": {},
  "kernelspec": {
   "display_name": "Python [default]",
   "language": "python",
   "name": "python3"
  },
  "language_info": {
   "codemirror_mode": {
    "name": "ipython",
    "version": 3
   },
   "file_extension": ".py",
   "mimetype": "text/x-python",
   "name": "python",
   "nbconvert_exporter": "python",
   "pygments_lexer": "ipython3",
   "version": "3.5.2"
  }
 },
 "nbformat": 4,
 "nbformat_minor": 1
}
