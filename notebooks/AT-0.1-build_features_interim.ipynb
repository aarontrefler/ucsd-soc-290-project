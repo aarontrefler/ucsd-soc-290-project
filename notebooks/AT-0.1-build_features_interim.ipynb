{
 "cells": [
  {
   "cell_type": "code",
   "execution_count": 1,
   "metadata": {
    "collapsed": true
   },
   "outputs": [],
   "source": [
    "import json\n",
    "import os\n",
    "import numpy as np\n",
    "import pprint\n",
    "import pandas as pd\n",
    "import re\n",
    "\n",
    "from IPython.core.display import display\n",
    "from pymongo import MongoClient\n",
    "from gender_detector.gender_detector import GenderDetector"
   ]
  },
  {
   "cell_type": "markdown",
   "metadata": {},
   "source": [
    "# Create Age Features"
   ]
  },
  {
   "cell_type": "code",
   "execution_count": 2,
   "metadata": {
    "collapsed": true
   },
   "outputs": [],
   "source": [
    "# -*- coding: utf-8 -*-\n",
    "def is_english(s):\n",
    "    try:\n",
    "        s.encode(encoding='utf-8').decode('ascii')\n",
    "    except UnicodeDecodeError:\n",
    "        return False\n",
    "    else:\n",
    "        return True\n",
    "    \n",
    "\n",
    "def first_name(s):\n",
    "    return s.split()[0]\n",
    "\n",
    "\n",
    "def last_name(s):\n",
    "    return s.split()[-1]\n",
    "\n",
    "\n",
    "def clean_name(name):\n",
    "    '''Utility function to clean names by removing links, special characters using simple regex statements.'''\n",
    "    return ' '.join(re.sub(\"(@[A-Za-z0-9]+)|([^0-9A-Za-z \\t])|(\\w+:\\/\\/\\S+)\", \" \", name).split())"
   ]
  },
  {
   "cell_type": "code",
   "execution_count": 3,
   "metadata": {
    "collapsed": false
   },
   "outputs": [],
   "source": [
    "for f in os.listdir('../data/raw'):\n",
    "\n",
    "    df = pd.read_csv('../data/raw/' + f)\n",
    "\n",
    "    df['user_first_name'] = df.user_name.apply(first_name)\n",
    "    df['user_last_name'] = df.user_name.apply(last_name)\n",
    "    df['user_name_is_english'] = df.user_first_name.apply(is_english)\n",
    "\n",
    "    #df.user_first_name[df['user_name_is_english'] == False]\n",
    "\n",
    "    df_clean = df[df['user_name_is_english']].copy()\n",
    "\n",
    "    detector = GenderDetector('us')\n",
    "    df_clean['user_gender'] =  df_clean.user_first_name.apply(detector.guess)\n",
    "\n",
    "    df_clean['gender_male'] = df_clean.user_gender == 'male'\n",
    "    df_clean['gender_female'] = df_clean.user_gender == 'female'\n",
    "    df_clean['gender_unknown'] = df_clean.user_gender == 'unknown'\n",
    "    \n",
    "    break"
   ]
  },
  {
   "cell_type": "markdown",
   "metadata": {},
   "source": [
    "# Create Age Features"
   ]
  },
  {
   "cell_type": "code",
   "execution_count": 4,
   "metadata": {
    "collapsed": false
   },
   "outputs": [],
   "source": [
    "df = df_clean.copy()"
   ]
  },
  {
   "cell_type": "code",
   "execution_count": 35,
   "metadata": {
    "collapsed": false
   },
   "outputs": [],
   "source": [
    "from agefromname import AgeFromName\n",
    "from agefromname import GenerationFromName"
   ]
  },
  {
   "cell_type": "code",
   "execution_count": 36,
   "metadata": {
    "collapsed": false
   },
   "outputs": [
    {
     "name": "stdout",
     "output_type": "stream",
     "text": [
      "Pax\n",
      "male\n"
     ]
    }
   ],
   "source": [
    "name = df.user_first_name[3]\n",
    "gender = df.user_gender[3]\n",
    "print(name)\n",
    "print(gender)"
   ]
  },
  {
   "cell_type": "code",
   "execution_count": 46,
   "metadata": {
    "collapsed": false
   },
   "outputs": [
    {
     "name": "stdout",
     "output_type": "stream",
     "text": [
      "43\n"
     ]
    }
   ],
   "source": [
    "age_from_name = AgeFromName()\n",
    "age = 2017 - age_from_name.argmax(name, 'm', 2017, minimum_age=20)\n",
    "print(age)"
   ]
  },
  {
   "cell_type": "code",
   "execution_count": 49,
   "metadata": {
    "collapsed": false
   },
   "outputs": [
    {
     "data": {
      "text/plain": [
       "Baby Boomers    0.000000e+00\n",
       "Generation X    1.115362e+01\n",
       "Generation Z    9.822559e+01\n",
       "Greatest        0.000000e+00\n",
       "Millenials      0.000000e+00\n",
       "Post Gen Z      2.422186e+02\n",
       "Silent          0.000000e+00\n",
       "_other         -5.684342e-14\n",
       "Name: estimated_count, dtype: float64"
      ]
     },
     "metadata": {},
     "output_type": "display_data"
    }
   ],
   "source": [
    "generation_from_name = GenerationFromName()\n",
    "generation_probs = generation_from_name.get_estimated_counts(\n",
    "    name, 'm', 2017)\n",
    "display(generation_probs)"
   ]
  },
  {
   "cell_type": "code",
   "execution_count": 50,
   "metadata": {
    "collapsed": false
   },
   "outputs": [
    {
     "data": {
      "text/plain": [
       "pandas.core.series.Series"
      ]
     },
     "execution_count": 50,
     "metadata": {},
     "output_type": "execute_result"
    }
   ],
   "source": [
    "type(generation_probs)"
   ]
  }
 ],
 "metadata": {
  "kernelspec": {
   "display_name": "Python 3",
   "language": "python",
   "name": "python3"
  },
  "language_info": {
   "codemirror_mode": {
    "name": "ipython",
    "version": 3
   },
   "file_extension": ".py",
   "mimetype": "text/x-python",
   "name": "python",
   "nbconvert_exporter": "python",
   "pygments_lexer": "ipython3",
   "version": "3.5.2"
  },
  "toc": {
   "colors": {
    "hover_highlight": "#DAA520",
    "navigate_num": "#000000",
    "navigate_text": "#333333",
    "running_highlight": "#FF0000",
    "selected_highlight": "#FFD700",
    "sidebar_border": "#EEEEEE",
    "wrapper_background": "#FFFFFF"
   },
   "moveMenuLeft": true,
   "nav_menu": {
    "height": "30px",
    "width": "251px"
   },
   "navigate_menu": true,
   "number_sections": true,
   "sideBar": true,
   "threshold": 4,
   "toc_cell": false,
   "toc_section_display": "block",
   "toc_window_display": false,
   "widenNotebook": false
  }
 },
 "nbformat": 4,
 "nbformat_minor": 2
}
