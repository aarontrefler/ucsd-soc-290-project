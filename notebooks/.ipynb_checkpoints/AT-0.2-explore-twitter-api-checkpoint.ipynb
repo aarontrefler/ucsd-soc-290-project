{
 "cells": [
  {
   "cell_type": "markdown",
   "metadata": {},
   "source": [
    "# Setup"
   ]
  },
  {
   "cell_type": "code",
   "execution_count": 4,
   "metadata": {
    "collapsed": true
   },
   "outputs": [],
   "source": [
    "import json\n",
    "\n",
    "import tweepy\n",
    "from tweepy import OAuthHandler"
   ]
  },
  {
   "cell_type": "code",
   "execution_count": 5,
   "metadata": {
    "collapsed": false
   },
   "outputs": [],
   "source": [
    "consumer_key = 'W1vEEpGJawjrqeW70yBUkfrWt'\n",
    "consumer_secret = 'PSNivPYzJCjvEeQ5WW0zAhAIbAoEdzQBjTUG39up4yhnW9HABi'\n",
    "access_token = '289683843-a9GiDa84Ak7FqD8c8Cu1qYzA5oEVqQ1FSKjkSudP'\n",
    "access_secret = 'O3KhEusOxqTJGI6zvh8eqlDbyGyUT4tKThymbr57YFHWx'\n",
    " \n",
    "auth = OAuthHandler(consumer_key, consumer_secret)\n",
    "auth.set_access_token(access_token, access_secret)\n",
    " \n",
    "api = tweepy.API(auth)"
   ]
  },
  {
   "cell_type": "markdown",
   "metadata": {},
   "source": [
    "# Twitter API"
   ]
  },
  {
   "cell_type": "code",
   "execution_count": 5,
   "metadata": {
    "collapsed": false
   },
   "outputs": [],
   "source": [
    "def process_tweet(tweet):\n",
    "    \"\"\"\n",
    "    \"\"\"\n",
    "    data = (json.dumps(tweet, sort_keys=True, indent=4))\n",
    "    return data\n",
    "\n",
    "def store_tweet(tweet):\n",
    "    \"\"\"\n",
    "    \"\"\""
   ]
  },
  {
   "cell_type": "code",
   "execution_count": 6,
   "metadata": {
    "collapsed": false,
    "scrolled": true
   },
   "outputs": [],
   "source": [
    "# Read my timeline posts\n",
    "for status in tweepy.Cursor(api.home_timeline).items(1):\n",
    "    # Process a single status\n",
    "    process_tweet(status._json)"
   ]
  },
  {
   "cell_type": "code",
   "execution_count": 9,
   "metadata": {
    "collapsed": false,
    "scrolled": true
   },
   "outputs": [],
   "source": [
    "# Get my followers\n",
    "for friend in tweepy.Cursor(api.friends).items(1):\n",
    "    process_tweet(friend._json)"
   ]
  },
  {
   "cell_type": "code",
   "execution_count": 10,
   "metadata": {
    "collapsed": false,
    "scrolled": true
   },
   "outputs": [],
   "source": [
    "# Get my tweets\n",
    "for tweet in tweepy.Cursor(api.user_timeline).items(1):\n",
    "    process_tweet(tweet._json)"
   ]
  },
  {
   "cell_type": "markdown",
   "metadata": {
    "collapsed": true
   },
   "source": [
    "# Donald Trump"
   ]
  },
  {
   "cell_type": "code",
   "execution_count": 6,
   "metadata": {
    "collapsed": false
   },
   "outputs": [
    {
     "name": "stdout",
     "output_type": "stream",
     "text": [
      "41430767\n"
     ]
    }
   ],
   "source": [
    "user = api.get_user('realDonaldTrump')\n",
    "print(user.followers_count)"
   ]
  },
  {
   "cell_type": "code",
   "execution_count": 9,
   "metadata": {
    "collapsed": false
   },
   "outputs": [
    {
     "name": "stdout",
     "output_type": "stream",
     "text": [
      "Tweet: All of this \"Russia\" talk right when the Republicans are making their big push for historic Tax Cuts &amp; Reform. Is this coincidental? NOT! \n",
      "\n"
     ]
    }
   ],
   "source": [
    "# Get tweets\n",
    "statuses = api.user_timeline('realDonaldTrump', count=100)\n",
    "for status in statuses:\n",
    "    status = status._json\n",
    "    print(\"Tweet: {} \\n\".format(status['text']))\n",
    "    retweets = api.retweets(status['id_str'], count=100)\n",
    "    break"
   ]
  },
  {
   "cell_type": "code",
   "execution_count": 8,
   "metadata": {
    "collapsed": false,
    "scrolled": false
   },
   "outputs": [
    {
     "name": "stdout",
     "output_type": "stream",
     "text": [
      "<class 'tweepy.models.Status'>\n",
      "geo\n",
      "is_quote_status\n",
      "source\n",
      "in_reply_to_status_id\n",
      "in_reply_to_user_id_str\n",
      "truncated\n",
      "in_reply_to_user_id\n",
      "id_str\n",
      "lang\n",
      "text\n",
      "place\n",
      "id\n",
      "user\n",
      "in_reply_to_screen_name\n",
      "entities\n",
      "favorite_count\n",
      "favorited\n",
      "in_reply_to_status_id_str\n",
      "retweet_count\n",
      "retweeted\n",
      "contributors\n",
      "coordinates\n",
      "created_at\n"
     ]
    }
   ],
   "source": [
    "# Display keys for tweet data\n",
    "print(type(statuses[0]))\n",
    "print(\"\\n\".join(statuses[0]._json.keys()))"
   ]
  },
  {
   "cell_type": "code",
   "execution_count": 23,
   "metadata": {
    "collapsed": false,
    "scrolled": false
   },
   "outputs": [
    {
     "name": "stdout",
     "output_type": "stream",
     "text": [
      "Retweet: \n",
      "user id: 882626891890425856\n",
      "user desc: Just a chick doing my thing listening to bullshit like everyone else lol I guess I'm an ass too.! Whatever!! lmao\n",
      "\n",
      "Retweet: \n",
      "user id: 720177466095058944\n",
      "user desc: \n",
      "\n",
      "Retweet: \n",
      "user id: 3308254063\n",
      "user desc: LIBERTARIAN; My opinions are my own. They don't reflect the opinions of my family, friends, enemies, my past and current employer(s), my schooling, or my cat.\n",
      "\n",
      "Retweet: \n",
      "user id: 705748973341040641\n",
      "user desc: \n",
      "\n",
      "Retweet: \n",
      "user id: 731915548049596416\n",
      "user desc: \n",
      "\n",
      "Retweet: \n",
      "user id: 803891964445720577\n",
      "user desc: Ad Agency produces commercials for clients; Law Firms, Life Insurance Companies, Restaurants and auto repair shops. Commercials air on radio & TV stations.\n",
      "\n",
      "Retweet: \n",
      "user id: 923367168099590144\n",
      "user desc: Using martial arts to gain total awareness through mental clarity, a healthy body, and a vibrant joyful spirit!\n",
      "\n"
     ]
    }
   ],
   "source": [
    "# Get retweet data\n",
    "for counter, retweet in enumerate(retweets):\n",
    "    retweet = retweet._json\n",
    "    print(\"Retweet: \\nuser id: {}\\nuser desc: {}\\n\"\n",
    "          .format(retweet['user']['id_str'], \n",
    "                  retweet['user']['description']))\n",
    "    if counter > 5:\n",
    "        break"
   ]
  },
  {
   "cell_type": "code",
   "execution_count": 101,
   "metadata": {
    "collapsed": false
   },
   "outputs": [
    {
     "name": "stdout",
     "output_type": "stream",
     "text": [
      "coordinates\n",
      "place\n",
      "id_str\n",
      "user\n",
      "favorite_count\n",
      "source\n",
      "retweeted_status\n",
      "in_reply_to_user_id_str\n",
      "truncated\n",
      "lang\n",
      "retweeted\n",
      "favorited\n",
      "in_reply_to_status_id\n",
      "contributors\n",
      "geo\n",
      "in_reply_to_status_id_str\n",
      "entities\n",
      "retweet_count\n",
      "in_reply_to_user_id\n",
      "in_reply_to_screen_name\n",
      "is_quote_status\n",
      "id\n",
      "created_at\n",
      "text\n"
     ]
    }
   ],
   "source": [
    "# Display keys for retweet data\n",
    "status = statuses[0]\n",
    "status = status._json\n",
    "retweets = api.retweets(status['id_str'], count=1)\n",
    "retweet = retweets[0]\n",
    "retweet = retweet._json\n",
    "print(\"\\n\".join(retweet.keys()))"
   ]
  },
  {
   "cell_type": "markdown",
   "metadata": {
    "collapsed": true
   },
   "source": [
    "# Handle Rate Limits Using Cursor"
   ]
  },
  {
   "cell_type": "code",
   "execution_count": null,
   "metadata": {
    "collapsed": true
   },
   "outputs": [],
   "source": [
    "# Code taken from tweepy to deal with rate limit issues\n",
    "\n",
    "# In this example, the handler is time.sleep(15 * 60),\n",
    "# but you can of course handle it in any way you want.\n",
    "\n",
    "def limit_handled(cursor):\n",
    "    while True:\n",
    "        try:\n",
    "            yield cursor.next()\n",
    "        except tweepy.RateLimitError:\n",
    "            time.sleep(15 * 60)\n",
    "\n",
    "for follower in limit_handled(tweepy.Cursor(api.followers).items()):\n",
    "    if follower.friends_count < 300:\n",
    "        print follower.screen_name"
   ]
  }
 ],
 "metadata": {
  "kernelspec": {
   "display_name": "Python 3",
   "language": "python",
   "name": "python3"
  },
  "language_info": {
   "codemirror_mode": {
    "name": "ipython",
    "version": 3
   },
   "file_extension": ".py",
   "mimetype": "text/x-python",
   "name": "python",
   "nbconvert_exporter": "python",
   "pygments_lexer": "ipython3",
   "version": "3.5.2"
  },
  "toc": {
   "colors": {
    "hover_highlight": "#DAA520",
    "navigate_num": "#000000",
    "navigate_text": "#333333",
    "running_highlight": "#FF0000",
    "selected_highlight": "#FFD700",
    "sidebar_border": "#EEEEEE",
    "wrapper_background": "#FFFFFF"
   },
   "moveMenuLeft": true,
   "nav_menu": {
    "height": "13px",
    "width": "251px"
   },
   "navigate_menu": true,
   "number_sections": true,
   "sideBar": true,
   "threshold": 4,
   "toc_cell": false,
   "toc_section_display": "block",
   "toc_window_display": false,
   "widenNotebook": false
  }
 },
 "nbformat": 4,
 "nbformat_minor": 2
}
