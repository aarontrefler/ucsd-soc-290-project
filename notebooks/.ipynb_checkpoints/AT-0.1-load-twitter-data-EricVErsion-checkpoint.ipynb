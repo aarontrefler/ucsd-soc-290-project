{
 "cells": [
  {
   "cell_type": "markdown",
   "metadata": {},
   "source": [
    "# Setup"
   ]
  },
  {
   "cell_type": "code",
   "execution_count": 50,
   "metadata": {
    "collapsed": true
   },
   "outputs": [],
   "source": [
    "import json\n",
    "import os\n",
    "import pprint\n",
    "import re\n",
    "from pymongo import MongoClient\n",
    "from textblob import TextBlob"
   ]
  },
  {
   "cell_type": "code",
   "execution_count": 51,
   "metadata": {
    "collapsed": false
   },
   "outputs": [],
   "source": [
    "# Restore MongoDB\n",
    "os.system('mongorestore --nsInclude \\'trump.*\\' --gzip \"../data/\"')\n",
    "client = MongoClient()\n",
    "db = client.twitterdb"
   ]
  },
  {
   "cell_type": "markdown",
   "metadata": {},
   "source": [
    "# Get Trump Tweet"
   ]
  },
  {
   "cell_type": "code",
   "execution_count": 52,
   "metadata": {
    "collapsed": false,
    "scrolled": false
   },
   "outputs": [
    {
     "name": "stdout",
     "output_type": "stream",
     "text": [
      "{u'_id': ObjectId('5a02383a0d86853f995b8d00'),\n",
      " u'contributors': None,\n",
      " u'coordinates': None,\n",
      " u'created_at': u'Tue Nov 07 21:50:07 +0000 2017',\n",
      " u'entities': {u'hashtags': [],\n",
      "               u'symbols': [],\n",
      "               u'urls': [],\n",
      "               u'user_mentions': []},\n",
      " u'favorite_count': 18041,\n",
      " u'favorited': False,\n",
      " u'geo': None,\n",
      " u'id': 928016742575738882L,\n",
      " u'id_str': u'928016742575738882',\n",
      " u'in_reply_to_screen_name': None,\n",
      " u'in_reply_to_status_id': None,\n",
      " u'in_reply_to_status_id_str': None,\n",
      " u'in_reply_to_user_id': None,\n",
      " u'in_reply_to_user_id_str': None,\n",
      " u'is_quote_status': False,\n",
      " u'lang': u'en',\n",
      " u'place': None,\n",
      " u'retweet_count': 3453,\n",
      " u'retweeted': False,\n",
      " u'source': u'<a href=\"http://twitter.com/download/iphone\" rel=\"nofollow\">Twitter for iPhone</a>',\n",
      " u'text': u\"Thank you to all Americans who participated in Nat'l Rx Drug Take Back Day. A record amount of drugs collected &amp; disposed. We can do this!\",\n",
      " u'truncated': False,\n",
      " u'user': {u'contributors_enabled': False,\n",
      "           u'created_at': u'Wed Mar 18 13:46:38 +0000 2009',\n",
      "           u'default_profile': False,\n",
      "           u'default_profile_image': False,\n",
      "           u'description': u'45th President of the United States of America\\U0001f1fa\\U0001f1f8',\n",
      "           u'entities': {u'description': {u'urls': []},\n",
      "                         u'url': {u'urls': [{u'display_url': u'Instagram.com/realDonaldTrump',\n",
      "                                             u'expanded_url': u'http://www.Instagram.com/realDonaldTrump',\n",
      "                                             u'indices': [0, 23],\n",
      "                                             u'url': u'https://t.co/OMxB0xp8tD'}]}},\n",
      "           u'favourites_count': 23,\n",
      "           u'follow_request_sent': False,\n",
      "           u'followers_count': 42130351,\n",
      "           u'following': False,\n",
      "           u'friends_count': 45,\n",
      "           u'geo_enabled': True,\n",
      "           u'has_extended_profile': False,\n",
      "           u'id': 25073877,\n",
      "           u'id_str': u'25073877',\n",
      "           u'is_translation_enabled': True,\n",
      "           u'is_translator': False,\n",
      "           u'lang': u'en',\n",
      "           u'listed_count': 79574,\n",
      "           u'location': u'Washington, DC',\n",
      "           u'name': u'Donald J. Trump',\n",
      "           u'notifications': False,\n",
      "           u'profile_background_color': u'6D5C18',\n",
      "           u'profile_background_image_url': u'http://pbs.twimg.com/profile_background_images/530021613/trump_scotland__43_of_70_cc.jpg',\n",
      "           u'profile_background_image_url_https': u'https://pbs.twimg.com/profile_background_images/530021613/trump_scotland__43_of_70_cc.jpg',\n",
      "           u'profile_background_tile': True,\n",
      "           u'profile_banner_url': u'https://pbs.twimg.com/profile_banners/25073877/1509868464',\n",
      "           u'profile_image_url': u'http://pbs.twimg.com/profile_images/874276197357596672/kUuht00m_normal.jpg',\n",
      "           u'profile_image_url_https': u'https://pbs.twimg.com/profile_images/874276197357596672/kUuht00m_normal.jpg',\n",
      "           u'profile_link_color': u'1B95E0',\n",
      "           u'profile_sidebar_border_color': u'BDDCAD',\n",
      "           u'profile_sidebar_fill_color': u'C5CEC0',\n",
      "           u'profile_text_color': u'333333',\n",
      "           u'profile_use_background_image': True,\n",
      "           u'protected': False,\n",
      "           u'screen_name': u'realDonaldTrump',\n",
      "           u'statuses_count': 36332,\n",
      "           u'time_zone': u'Eastern Time (US & Canada)',\n",
      "           u'translator_type': u'regular',\n",
      "           u'url': u'https://t.co/OMxB0xp8tD',\n",
      "           u'utc_offset': -18000,\n",
      "           u'verified': True}}\n"
     ]
    }
   ],
   "source": [
    "pprint.pprint(db.trump_tweets.find_one())"
   ]
  },
  {
   "cell_type": "markdown",
   "metadata": {},
   "source": [
    "# Get Trump Retweet"
   ]
  },
  {
   "cell_type": "code",
   "execution_count": 95,
   "metadata": {
    "collapsed": false
   },
   "outputs": [],
   "source": [
    "# Get retweet collections\n",
    "retweet_collections = db.collection_names(\n",
    "    include_system_collections=False)\n",
    "retweet_collections.remove('trump_tweets')"
   ]
  },
  {
   "cell_type": "code",
   "execution_count": 96,
   "metadata": {
    "collapsed": false
   },
   "outputs": [],
   "source": [
    "tweet1 = db.trump_tweets.find().limit(15)\n"
   ]
  },
  {
   "cell_type": "code",
   "execution_count": 97,
   "metadata": {
    "collapsed": true
   },
   "outputs": [],
   "source": [
    "def clean_tweet(tweet):\n",
    "        '''\n",
    "        Utility function to clean tweet text by removing links, special characters\n",
    "        using simple regex statements.\n",
    "        '''\n",
    "        return ' '.join(re.sub(\"(@[A-Za-z0-9]+)|([^0-9A-Za-z \\t])|(\\w+:\\/\\/\\S+)\", \" \", tweet['text']).split())\n",
    "\n"
   ]
  },
  {
   "cell_type": "code",
   "execution_count": 100,
   "metadata": {
    "collapsed": true
   },
   "outputs": [],
   "source": [
    "def get_tweet_sentiment(tweet):\n",
    "        '''\n",
    "        Utility function to classify sentiment of passed tweet\n",
    "        using textblob's sentiment method\n",
    "        '''\n",
    "        # create TextBlob object of passed tweet text\n",
    "        analysis = TextBlob(clean_tweet(tweet))\n",
    "        #print analysis.sentiment.polarity\n",
    "        # set sentiment\n",
    "        return analysis.sentiment.polarity"
   ]
  },
  {
   "cell_type": "code",
   "execution_count": 101,
   "metadata": {
    "collapsed": false
   },
   "outputs": [
    {
     "name": "stdout",
     "output_type": "stream",
     "text": [
      "0.533333333333\n",
      "-0.01\n",
      "-1.0\n",
      "0.0125\n",
      "-0.189583333333\n",
      "0.48\n",
      "0.85\n",
      "0.85\n",
      "0.0\n",
      "-0.2\n",
      "0.525\n",
      "0.308333333333\n",
      "0.3\n",
      "-0.5\n"
     ]
    }
   ],
   "source": [
    "#get_tweet_sentiment(tweet1)\n",
    "for t in tweet1:\n",
    "    print get_tweet_sentiment(t)\n",
    "    \n",
    "    "
   ]
  },
  {
   "cell_type": "code",
   "execution_count": null,
   "metadata": {
    "collapsed": true
   },
   "outputs": [],
   "source": []
  },
  {
   "cell_type": "code",
   "execution_count": null,
   "metadata": {
    "collapsed": true
   },
   "outputs": [],
   "source": []
  }
 ],
 "metadata": {
  "kernelspec": {
   "display_name": "Python 3",
   "language": "python",
   "name": "python3"
  },
  "language_info": {
   "codemirror_mode": {
    "name": "ipython",
    "version": 3
   },
   "file_extension": ".py",
   "mimetype": "text/x-python",
   "name": "python",
   "nbconvert_exporter": "python",
   "pygments_lexer": "ipython3",
   "version": "3.5.2"
  },
  "toc": {
   "colors": {
    "hover_highlight": "#DAA520",
    "navigate_num": "#000000",
    "navigate_text": "#333333",
    "running_highlight": "#FF0000",
    "selected_highlight": "#FFD700",
    "sidebar_border": "#EEEEEE",
    "wrapper_background": "#FFFFFF"
   },
   "moveMenuLeft": true,
   "nav_menu": {
    "height": "65px",
    "width": "251px"
   },
   "navigate_menu": true,
   "number_sections": true,
   "sideBar": true,
   "threshold": 4,
   "toc_cell": false,
   "toc_section_display": "block",
   "toc_window_display": false,
   "widenNotebook": false
  }
 },
 "nbformat": 4,
 "nbformat_minor": 2
}
