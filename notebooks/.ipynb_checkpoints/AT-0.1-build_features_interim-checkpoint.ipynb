{
 "cells": [
  {
   "cell_type": "code",
   "execution_count": 15,
   "metadata": {
    "collapsed": true
   },
   "outputs": [],
   "source": [
    "import json\n",
    "import os\n",
    "import numpy as np\n",
    "import pprint\n",
    "import pandas as pd\n",
    "import re\n",
    "\n",
    "from IPython.core.display import display\n",
    "from pymongo import MongoClient\n",
    "from gender_detector.gender_detector import GenderDetector"
   ]
  },
  {
   "cell_type": "markdown",
   "metadata": {},
   "source": [
    "# Create Age Features"
   ]
  },
  {
   "cell_type": "code",
   "execution_count": 16,
   "metadata": {
    "collapsed": true
   },
   "outputs": [],
   "source": [
    "# -*- coding: utf-8 -*-\n",
    "def is_english(s):\n",
    "    try:\n",
    "        s.encode(encoding='utf-8').decode('ascii')\n",
    "    except UnicodeDecodeError:\n",
    "        return False\n",
    "    else:\n",
    "        return True\n",
    "    \n",
    "\n",
    "def first_name(s):\n",
    "    return s.split()[0]\n",
    "\n",
    "\n",
    "def last_name(s):\n",
    "    return s.split()[-1]\n",
    "\n",
    "\n",
    "def clean_name(name):\n",
    "    '''Utility function to clean names by removing links, special characters using simple regex statements.'''\n",
    "    return ' '.join(re.sub(\"(@[A-Za-z0-9]+)|([^0-9A-Za-z \\t])|(\\w+:\\/\\/\\S+)\", \" \", name).split())"
   ]
  },
  {
   "cell_type": "code",
   "execution_count": 18,
   "metadata": {
    "collapsed": false
   },
   "outputs": [],
   "source": [
    "for f in os.listdir('../data/raw'):\n",
    "\n",
    "    df = pd.read_csv('../data/raw/' + f)\n",
    "\n",
    "    df['user_first_name'] = df.user_name.apply(first_name)\n",
    "    df['user_last_name'] = df.user_name.apply(last_name)\n",
    "    df['user_name_is_english'] = df.user_first_name.apply(is_english)\n",
    "\n",
    "    #df.user_first_name[df['user_name_is_english'] == False]\n",
    "\n",
    "    df_clean = df[df['user_name_is_english']].copy()\n",
    "\n",
    "    detector = GenderDetector('us')\n",
    "    df_clean['user_gender'] =  df_clean.user_first_name.apply(detector.guess)\n",
    "\n",
    "    df_clean['gender_male'] = df_clean.user_gender == 'male'\n",
    "    df_clean['gender_female'] = df_clean.user_gender == 'female'\n",
    "    df_clean['gender_unknown'] = df_clean.user_gender == 'unknown'\n",
    "    \n",
    "    break"
   ]
  },
  {
   "cell_type": "markdown",
   "metadata": {},
   "source": [
    "# Create Age Features"
   ]
  },
  {
   "cell_type": "code",
   "execution_count": 20,
   "metadata": {
    "collapsed": false
   },
   "outputs": [],
   "source": [
    "df = df_clean.copy()"
   ]
  },
  {
   "cell_type": "code",
   "execution_count": 21,
   "metadata": {
    "collapsed": false
   },
   "outputs": [
    {
     "ename": "ImportError",
     "evalue": "No module named 'agefromname'",
     "output_type": "error",
     "traceback": [
      "\u001b[0;31m---------------------------------------------------------------------------\u001b[0m",
      "\u001b[0;31mImportError\u001b[0m                               Traceback (most recent call last)",
      "\u001b[0;32m<ipython-input-21-b2038d77666f>\u001b[0m in \u001b[0;36m<module>\u001b[0;34m()\u001b[0m\n\u001b[0;32m----> 1\u001b[0;31m \u001b[0;32mfrom\u001b[0m \u001b[0magefromname\u001b[0m \u001b[0;32mimport\u001b[0m \u001b[0mAgeFromName\u001b[0m\u001b[0;34m\u001b[0m\u001b[0m\n\u001b[0m\u001b[1;32m      2\u001b[0m \u001b[0mage_from_name\u001b[0m \u001b[0;34m=\u001b[0m \u001b[0mAgeFromName\u001b[0m\u001b[0;34m(\u001b[0m\u001b[0;34m)\u001b[0m\u001b[0;34m\u001b[0m\u001b[0m\n",
      "\u001b[0;31mImportError\u001b[0m: No module named 'agefromname'"
     ]
    }
   ],
   "source": [
    "from agefromname import AgeFromName\n",
    "age_from_name = AgeFromName()"
   ]
  },
  {
   "cell_type": "code",
   "execution_count": null,
   "metadata": {
    "collapsed": true
   },
   "outputs": [],
   "source": [
    "age_from_name.prob_male('taylor', current_year=2017)"
   ]
  }
 ],
 "metadata": {
  "kernelspec": {
   "display_name": "Python 3",
   "language": "python",
   "name": "python3"
  },
  "language_info": {
   "codemirror_mode": {
    "name": "ipython",
    "version": 3
   },
   "file_extension": ".py",
   "mimetype": "text/x-python",
   "name": "python",
   "nbconvert_exporter": "python",
   "pygments_lexer": "ipython3",
   "version": "3.5.2"
  },
  "toc": {
   "colors": {
    "hover_highlight": "#DAA520",
    "navigate_num": "#000000",
    "navigate_text": "#333333",
    "running_highlight": "#FF0000",
    "selected_highlight": "#FFD700",
    "sidebar_border": "#EEEEEE",
    "wrapper_background": "#FFFFFF"
   },
   "moveMenuLeft": true,
   "nav_menu": {
    "height": "30px",
    "width": "251px"
   },
   "navigate_menu": true,
   "number_sections": true,
   "sideBar": true,
   "threshold": 4,
   "toc_cell": false,
   "toc_section_display": "block",
   "toc_window_display": false,
   "widenNotebook": false
  }
 },
 "nbformat": 4,
 "nbformat_minor": 2
}
