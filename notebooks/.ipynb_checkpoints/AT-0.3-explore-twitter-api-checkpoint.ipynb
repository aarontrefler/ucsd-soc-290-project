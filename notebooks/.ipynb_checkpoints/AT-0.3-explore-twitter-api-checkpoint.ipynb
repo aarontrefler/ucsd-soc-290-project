{
 "cells": [
  {
   "cell_type": "markdown",
   "metadata": {},
   "source": [
    "# Setup"
   ]
  },
  {
   "cell_type": "code",
   "execution_count": 1,
   "metadata": {
    "collapsed": true
   },
   "outputs": [],
   "source": [
    "import json\n",
    "import tweepy\n",
    "from tweepy import OAuthHandler"
   ]
  },
  {
   "cell_type": "code",
   "execution_count": 2,
   "metadata": {
    "collapsed": false
   },
   "outputs": [],
   "source": [
    "consumer_key = 'W1vEEpGJawjrqeW70yBUkfrWt'\n",
    "consumer_secret = 'PSNivPYzJCjvEeQ5WW0zAhAIbAoEdzQBjTUG39up4yhnW9HABi'\n",
    "access_token = '289683843-a9GiDa84Ak7FqD8c8Cu1qYzA5oEVqQ1FSKjkSudP'\n",
    "access_secret = 'O3KhEusOxqTJGI6zvh8eqlDbyGyUT4tKThymbr57YFHWx'\n",
    " \n",
    "auth = OAuthHandler(consumer_key, consumer_secret)\n",
    "auth.set_access_token(access_token, access_secret)\n",
    " \n",
    "api = tweepy.API(auth)"
   ]
  },
  {
   "cell_type": "markdown",
   "metadata": {},
   "source": [
    "# Tweet Functions"
   ]
  },
  {
   "cell_type": "code",
   "execution_count": 3,
   "metadata": {
    "collapsed": false
   },
   "outputs": [],
   "source": [
    "def print_tweet(tweet):\n",
    "    \"\"\"\n",
    "    Print formatted information about a tweet.\n",
    "    \"\"\"\n",
    "    print(json.dumps(tweet, sort_keys=True, indent=4))\n",
    "\n",
    "def store_tweet(tweet):\n",
    "    \"\"\"\n",
    "    \"\"\"\n",
    "    \n",
    "def load_tweet():\n",
    "    \"\"\"\n",
    "    \"\"\""
   ]
  },
  {
   "cell_type": "markdown",
   "metadata": {
    "collapsed": true
   },
   "source": [
    "# Donald Trump Twitter"
   ]
  },
  {
   "cell_type": "code",
   "execution_count": 27,
   "metadata": {
    "collapsed": false
   },
   "outputs": [
    {
     "name": "stdout",
     "output_type": "stream",
     "text": [
      "Followers:  41433545\n"
     ]
    }
   ],
   "source": [
    "user = api.get_user('realDonaldTrump')\n",
    "print(\"Followers: \", user.followers_count)"
   ]
  },
  {
   "cell_type": "code",
   "execution_count": 25,
   "metadata": {
    "collapsed": false
   },
   "outputs": [
    {
     "name": "stdout",
     "output_type": "stream",
     "text": [
      "Tweet 0:\n",
      "All of this \"Russia\" talk right when the Republicans are making their big push for historic Tax Cuts &amp; Reform. Is this coincidental? NOT!\n",
      "\n",
      "Tweet 1:\n",
      "...are now fighting back like never before. There is so much GUILT by Democrats/Clinton, and now the facts are pouring out. DO SOMETHING!\n",
      "\n",
      "Tweet 2:\n",
      "...\"collusion,\" which doesn't exist. The Dems are using this terrible (and bad for our country) Witch Hunt for evil politics, but the R's...\n",
      "\n"
     ]
    }
   ],
   "source": [
    "# Get tweet data\n",
    "n = 3\n",
    "for counter, tweet in enumerate(tweepy.Cursor(\n",
    "    api.user_timeline, id='realDonaldTrump',count=n).items(n)):\n",
    "    \n",
    "    store_tweet(tweet._json)\n",
    "    print(\"Tweet {}:\\n{}\\n\".format(counter, tweet._json['text']))"
   ]
  },
  {
   "cell_type": "code",
   "execution_count": 26,
   "metadata": {
    "collapsed": false
   },
   "outputs": [
    {
     "name": "stdout",
     "output_type": "stream",
     "text": [
      "Retweet 0:\n",
      "user id: 3033514428\n",
      "user desc: Primo Americae. Ego moriar pro causa aequitatis. Get Quidam veni!\n",
      "\n",
      "Retweet 1:\n",
      "user id: 1942817478\n",
      "user desc: \n",
      "\n",
      "Retweet 2:\n",
      "user id: 391784578\n",
      "user desc: wife, mother, Christian, conservative. lover of God and Country\n",
      "\n",
      "Retweet 3:\n",
      "user id: 30208983\n",
      "user desc: Became an American citizen 11/24/2015. I am Conservative, I fight for what I believe in!  Proud wife of Navy Veteran. #MAGA\n",
      "\n",
      "Retweet 4:\n",
      "user id: 4855690216\n",
      "user desc: all gave some and some gave all😥keep our military and police officers in your daily prayers...proud father of a US Marine...MAGA Trump supporter 🇺🇸\n",
      "\n"
     ]
    }
   ],
   "source": [
    "#tweet = load_tweet()\n",
    "\n",
    "# Get retweet data\n",
    "n = 5\n",
    "retweets = api.retweets(tweet._json['id_str'], count=n)\n",
    "for counter, retweet in enumerate(retweets):\n",
    "    print(\"Retweet {}:\\nuser id: {}\\nuser desc: {}\\n\".format(\n",
    "        counter,\n",
    "        retweet._json['user']['id_str'], \n",
    "        retweet._json['user']['description']))"
   ]
  },
  {
   "cell_type": "markdown",
   "metadata": {
    "collapsed": true
   },
   "source": [
    "# Handle Rate Limits Using Cursor"
   ]
  },
  {
   "cell_type": "code",
   "execution_count": null,
   "metadata": {
    "collapsed": true
   },
   "outputs": [],
   "source": [
    "# Code taken from tweepy to deal with rate limit issues\n",
    "\n",
    "# In this example, the handler is time.sleep(15 * 60),\n",
    "# but you can of course handle it in any way you want.\n",
    "\n",
    "def limit_handled(cursor):\n",
    "    while True:\n",
    "        try:\n",
    "            yield cursor.next()\n",
    "        except tweepy.RateLimitError:\n",
    "            time.sleep(15 * 60)\n",
    "\n",
    "for follower in limit_handled(tweepy.Cursor(api.followers).items()):\n",
    "    if follower.friends_count < 300:\n",
    "        print follower.screen_name"
   ]
  }
 ],
 "metadata": {
  "kernelspec": {
   "display_name": "Python 3",
   "language": "python",
   "name": "python3"
  },
  "language_info": {
   "codemirror_mode": {
    "name": "ipython",
    "version": 3
   },
   "file_extension": ".py",
   "mimetype": "text/x-python",
   "name": "python",
   "nbconvert_exporter": "python",
   "pygments_lexer": "ipython3",
   "version": "3.5.2"
  },
  "toc": {
   "colors": {
    "hover_highlight": "#DAA520",
    "navigate_num": "#000000",
    "navigate_text": "#333333",
    "running_highlight": "#FF0000",
    "selected_highlight": "#FFD700",
    "sidebar_border": "#EEEEEE",
    "wrapper_background": "#FFFFFF"
   },
   "moveMenuLeft": true,
   "nav_menu": {
    "height": "13px",
    "width": "251px"
   },
   "navigate_menu": true,
   "number_sections": true,
   "sideBar": true,
   "threshold": 4,
   "toc_cell": false,
   "toc_section_display": "block",
   "toc_window_display": false,
   "widenNotebook": false
  }
 },
 "nbformat": 4,
 "nbformat_minor": 2
}
