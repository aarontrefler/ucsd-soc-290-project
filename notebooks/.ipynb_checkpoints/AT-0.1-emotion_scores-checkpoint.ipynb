{
 "cells": [
  {
   "cell_type": "code",
   "execution_count": 1,
   "metadata": {},
   "outputs": [],
   "source": [
    "from collections import OrderedDict, defaultdict, Counter\n",
    "import pandas as pd\n",
    "import csv\n",
    "from nltk.tokenize import TweetTokenizer\n",
    "from sklearn.feature_extraction.text import CountVectorizer"
   ]
  },
  {
   "cell_type": "code",
   "execution_count": 2,
   "metadata": {},
   "outputs": [],
   "source": [
    "data = pd.read_csv(\"../data/clean/scores.csv\").drop(\"Unnamed: 0\", axis=1)\n",
    "lexicon = '../resources/lexicons/NRC-emotion-lexicon-wordlevel-alphabetized-v0.92.txt'"
   ]
  },
  {
   "cell_type": "code",
   "execution_count": 3,
   "metadata": {},
   "outputs": [],
   "source": [
    "def create_emotionList(lexicon):\n",
    "    wordList = defaultdict(list)\n",
    "    emotionList = defaultdict(list)\n",
    "    with open(lexicon, 'r') as f:\n",
    "        reader = csv.reader(f, delimiter='\\t')\n",
    "        headerRows = [i for i in range(0, 46)]\n",
    "        for row in headerRows:\n",
    "            next(reader)\n",
    "        for word, emotion, present in reader:\n",
    "            if int(present) == 1:\n",
    "                #print(word)\n",
    "                wordList[word].append(emotion)\n",
    "                emotionList[emotion].append(word)\n",
    "    return wordList"
   ]
  },
  {
   "cell_type": "code",
   "execution_count": 4,
   "metadata": {},
   "outputs": [],
   "source": [
    "wordList = create_emotionList(lexicon)\n",
    "tt = TweetTokenizer()"
   ]
  },
  {
   "cell_type": "code",
   "execution_count": 5,
   "metadata": {},
   "outputs": [],
   "source": [
    "def generate_emotion_count(string, tokenizer):\n",
    "    emoCount = Counter()\n",
    "    for token in tt.tokenize(string):\n",
    "        token = token.lower()\n",
    "        emoCount += Counter(wordList[token])\n",
    "    #dividing by length of string   \n",
    "    for k in emoCount.keys():\n",
    "        emoCount[k] = emoCount[k]*1.0/len(tt.tokenize(string))\n",
    "        \n",
    "    return emoCount"
   ]
  },
  {
   "cell_type": "code",
   "execution_count": 6,
   "metadata": {},
   "outputs": [],
   "source": [
    "def add_emotion_score(data):\n",
    "    emotion_scores = [generate_emotion_count(tweet, tt) for tweet in data['text']]\n",
    "    emotion_df = pd.DataFrame(emotion_scores, index=data.index)\n",
    "    emotion_df = emotion_df.fillna(0)\n",
    "    return pd.concat([data, emotion_df], axis = 1)"
   ]
  },
  {
   "cell_type": "code",
   "execution_count": 7,
   "metadata": {},
   "outputs": [
    {
     "data": {
      "text/html": [
       "<div>\n",
       "<style scoped>\n",
       "    .dataframe tbody tr th:only-of-type {\n",
       "        vertical-align: middle;\n",
       "    }\n",
       "\n",
       "    .dataframe tbody tr th {\n",
       "        vertical-align: top;\n",
       "    }\n",
       "\n",
       "    .dataframe thead th {\n",
       "        text-align: right;\n",
       "    }\n",
       "</style>\n",
       "<table border=\"1\" class=\"dataframe\">\n",
       "  <thead>\n",
       "    <tr style=\"text-align: right;\">\n",
       "      <th></th>\n",
       "      <th>id_str</th>\n",
       "      <th>score_keyword</th>\n",
       "      <th>score_textblob_bayes_sentiment</th>\n",
       "      <th>score_textblob_pattern_sentiment</th>\n",
       "      <th>text</th>\n",
       "      <th>score</th>\n",
       "      <th>anger</th>\n",
       "      <th>anticipation</th>\n",
       "      <th>disgust</th>\n",
       "      <th>fear</th>\n",
       "      <th>joy</th>\n",
       "      <th>negative</th>\n",
       "      <th>positive</th>\n",
       "      <th>sadness</th>\n",
       "      <th>surprise</th>\n",
       "      <th>trust</th>\n",
       "    </tr>\n",
       "  </thead>\n",
       "  <tbody>\n",
       "    <tr>\n",
       "      <th>0</th>\n",
       "      <td>921829947093733376</td>\n",
       "      <td>0.5</td>\n",
       "      <td>0.600000</td>\n",
       "      <td>0.964574</td>\n",
       "      <td>Keep hearing about \"tiny\" amount of money spen...</td>\n",
       "      <td>0.688191</td>\n",
       "      <td>0.031250</td>\n",
       "      <td>0.031250</td>\n",
       "      <td>0.000000</td>\n",
       "      <td>0.031250</td>\n",
       "      <td>0.031250</td>\n",
       "      <td>0.093750</td>\n",
       "      <td>0.031250</td>\n",
       "      <td>0.000000</td>\n",
       "      <td>0.031250</td>\n",
       "      <td>0.031250</td>\n",
       "    </tr>\n",
       "    <tr>\n",
       "      <th>1</th>\n",
       "      <td>925005659569041409</td>\n",
       "      <td>0.5</td>\n",
       "      <td>0.625000</td>\n",
       "      <td>0.919302</td>\n",
       "      <td>Sorry, but this is years ago, before Paul Mana...</td>\n",
       "      <td>0.681434</td>\n",
       "      <td>0.000000</td>\n",
       "      <td>0.000000</td>\n",
       "      <td>0.000000</td>\n",
       "      <td>0.000000</td>\n",
       "      <td>0.000000</td>\n",
       "      <td>0.000000</td>\n",
       "      <td>0.032258</td>\n",
       "      <td>0.000000</td>\n",
       "      <td>0.032258</td>\n",
       "      <td>0.000000</td>\n",
       "    </tr>\n",
       "    <tr>\n",
       "      <th>2</th>\n",
       "      <td>931877599034388480</td>\n",
       "      <td>0.5</td>\n",
       "      <td>0.550000</td>\n",
       "      <td>0.950407</td>\n",
       "      <td>Crooked Hillary Clinton is the worst (and bigg...</td>\n",
       "      <td>0.666802</td>\n",
       "      <td>0.000000</td>\n",
       "      <td>0.066667</td>\n",
       "      <td>0.000000</td>\n",
       "      <td>0.000000</td>\n",
       "      <td>0.033333</td>\n",
       "      <td>0.000000</td>\n",
       "      <td>0.033333</td>\n",
       "      <td>0.000000</td>\n",
       "      <td>0.033333</td>\n",
       "      <td>0.033333</td>\n",
       "    </tr>\n",
       "    <tr>\n",
       "      <th>3</th>\n",
       "      <td>926481563214376961</td>\n",
       "      <td>0.5</td>\n",
       "      <td>0.512500</td>\n",
       "      <td>0.932663</td>\n",
       "      <td>The rigged Dem Primary, one of the biggest pol...</td>\n",
       "      <td>0.648388</td>\n",
       "      <td>0.037037</td>\n",
       "      <td>0.037037</td>\n",
       "      <td>0.037037</td>\n",
       "      <td>0.000000</td>\n",
       "      <td>0.000000</td>\n",
       "      <td>0.074074</td>\n",
       "      <td>0.037037</td>\n",
       "      <td>0.000000</td>\n",
       "      <td>0.000000</td>\n",
       "      <td>0.000000</td>\n",
       "    </tr>\n",
       "    <tr>\n",
       "      <th>4</th>\n",
       "      <td>926456069047582721</td>\n",
       "      <td>1.0</td>\n",
       "      <td>0.401786</td>\n",
       "      <td>0.461401</td>\n",
       "      <td>Bernie Sanders supporters have every right to ...</td>\n",
       "      <td>0.621062</td>\n",
       "      <td>0.047619</td>\n",
       "      <td>0.000000</td>\n",
       "      <td>0.047619</td>\n",
       "      <td>0.047619</td>\n",
       "      <td>0.000000</td>\n",
       "      <td>0.047619</td>\n",
       "      <td>0.047619</td>\n",
       "      <td>0.047619</td>\n",
       "      <td>0.000000</td>\n",
       "      <td>0.000000</td>\n",
       "    </tr>\n",
       "  </tbody>\n",
       "</table>\n",
       "</div>"
      ],
      "text/plain": [
       "               id_str  score_keyword  score_textblob_bayes_sentiment  \\\n",
       "0  921829947093733376            0.5                        0.600000   \n",
       "1  925005659569041409            0.5                        0.625000   \n",
       "2  931877599034388480            0.5                        0.550000   \n",
       "3  926481563214376961            0.5                        0.512500   \n",
       "4  926456069047582721            1.0                        0.401786   \n",
       "\n",
       "   score_textblob_pattern_sentiment  \\\n",
       "0                          0.964574   \n",
       "1                          0.919302   \n",
       "2                          0.950407   \n",
       "3                          0.932663   \n",
       "4                          0.461401   \n",
       "\n",
       "                                                text     score     anger  \\\n",
       "0  Keep hearing about \"tiny\" amount of money spen...  0.688191  0.031250   \n",
       "1  Sorry, but this is years ago, before Paul Mana...  0.681434  0.000000   \n",
       "2  Crooked Hillary Clinton is the worst (and bigg...  0.666802  0.000000   \n",
       "3  The rigged Dem Primary, one of the biggest pol...  0.648388  0.037037   \n",
       "4  Bernie Sanders supporters have every right to ...  0.621062  0.047619   \n",
       "\n",
       "   anticipation   disgust      fear       joy  negative  positive   sadness  \\\n",
       "0      0.031250  0.000000  0.031250  0.031250  0.093750  0.031250  0.000000   \n",
       "1      0.000000  0.000000  0.000000  0.000000  0.000000  0.032258  0.000000   \n",
       "2      0.066667  0.000000  0.000000  0.033333  0.000000  0.033333  0.000000   \n",
       "3      0.037037  0.037037  0.000000  0.000000  0.074074  0.037037  0.000000   \n",
       "4      0.000000  0.047619  0.047619  0.000000  0.047619  0.047619  0.047619   \n",
       "\n",
       "   surprise     trust  \n",
       "0  0.031250  0.031250  \n",
       "1  0.032258  0.000000  \n",
       "2  0.033333  0.033333  \n",
       "3  0.000000  0.000000  \n",
       "4  0.000000  0.000000  "
      ]
     },
     "execution_count": 7,
     "metadata": {},
     "output_type": "execute_result"
    }
   ],
   "source": [
    "d = add_emotion_score(data)\n",
    "d.head()"
   ]
  },
  {
   "cell_type": "code",
   "execution_count": 8,
   "metadata": {},
   "outputs": [
    {
     "data": {
      "text/plain": [
       "(294, 16)"
      ]
     },
     "execution_count": 8,
     "metadata": {},
     "output_type": "execute_result"
    }
   ],
   "source": [
    "d.shape"
   ]
  },
  {
   "cell_type": "code",
   "execution_count": 9,
   "metadata": {},
   "outputs": [],
   "source": [
    "d.drop(['score_keyword', 'score_textblob_bayes_sentiment', 'score_textblob_pattern_sentiment', 'text', 'score'])\n",
    "d.to_csv(path_or_buf =\"../data/clean/scores_emotion.csv\")"
   ]
  },
  {
   "cell_type": "code",
   "execution_count": 12,
   "metadata": {},
   "outputs": [
    {
     "data": {
      "text/plain": [
       "294"
      ]
     },
     "execution_count": 12,
     "metadata": {},
     "output_type": "execute_result"
    }
   ],
   "source": [
    "len(d.id_str.unique())"
   ]
  },
  {
   "cell_type": "code",
   "execution_count": null,
   "metadata": {},
   "outputs": [],
   "source": []
  }
 ],
 "metadata": {
  "anaconda-cloud": {},
  "kernelspec": {
   "display_name": "Python 3",
   "language": "python",
   "name": "python3"
  },
  "language_info": {
   "codemirror_mode": {
    "name": "ipython",
    "version": 3
   },
   "file_extension": ".py",
   "mimetype": "text/x-python",
   "name": "python",
   "nbconvert_exporter": "python",
   "pygments_lexer": "ipython3",
   "version": "3.5.4"
  },
  "toc": {
   "colors": {
    "hover_highlight": "#DAA520",
    "navigate_num": "#000000",
    "navigate_text": "#333333",
    "running_highlight": "#FF0000",
    "selected_highlight": "#FFD700",
    "sidebar_border": "#EEEEEE",
    "wrapper_background": "#FFFFFF"
   },
   "moveMenuLeft": true,
   "nav_menu": {
    "height": "13px",
    "width": "251px"
   },
   "navigate_menu": true,
   "number_sections": true,
   "sideBar": true,
   "threshold": 4,
   "toc_cell": false,
   "toc_section_display": "block",
   "toc_window_display": false,
   "widenNotebook": false
  }
 },
 "nbformat": 4,
 "nbformat_minor": 1
}
